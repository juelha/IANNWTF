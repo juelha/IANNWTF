{
  "nbformat": 4,
  "nbformat_minor": 0,
  "metadata": {
    "colab": {
      "name": "Homework_05 Sabine.ipynb",
      "provenance": [],
      "collapsed_sections": [],
      "authorship_tag": "ABX9TyMkzpa2NhE3cMAQBNUd35gF",
      "include_colab_link": true
    },
    "kernelspec": {
      "name": "python3",
      "display_name": "Python 3"
    },
    "language_info": {
      "name": "python"
    },
    "accelerator": "GPU"
  },
  "cells": [
    {
      "cell_type": "markdown",
      "metadata": {
        "id": "view-in-github",
        "colab_type": "text"
      },
      "source": [
        "<a href=\"https://colab.research.google.com/github/juelha/IANNWTF/blob/sabine/Homework_05_Sabine.ipynb\" target=\"_parent\"><img src=\"https://colab.research.google.com/assets/colab-badge.svg\" alt=\"Open In Colab\"/></a>"
      ]
    },
    {
      "cell_type": "markdown",
      "metadata": {
        "id": "0Gupg-fyMjzr"
      },
      "source": [
        "# 1 Data set\n",
        "As CNNs are very fashionable, in this week we would like you to work with the Fashion\n",
        "MNIST Dataset.\n",
        "Note that this is very similar to the MNIST dataset that you have already seen in\n",
        "notebooks on courseware. The images have the same shape and there are the same\n",
        "number of classes.\n",
        "1.1 Construct a Data Pipeline\n",
        "Make yourself familiar with the dataset and construct a Data Pipeline. Perform all the\n",
        "preprocessing steps that you deem necessary. 12\n"
      ]
    },
    {
      "cell_type": "code",
      "metadata": {
        "id": "P2O2OEXct8B8"
      },
      "source": [
        "import tensorflow as tf\n",
        "from tensorflow import keras\n",
        "import matplotlib.pyplot as plt\n",
        "import numpy as np\n",
        "import math\n",
        "\n",
        "\n",
        "(train_images, train_labels),(test_images, test_labels) = keras.datasets.fashion_mnist.load_data()\n",
        "\n",
        "# normalise pixel values \n",
        "train_images = train_images /  255.0\n",
        "test_images = test_images / 255.0\n",
        "validation_images = train_images[:5000]\n",
        "validation_labels = train_labels[:5000]\n",
        "\n",
        "assert train_images.shape == (60000, 28, 28)\n",
        "assert test_images.shape == (10000, 28, 28)\n",
        "assert train_labels.shape == (60000,)\n",
        "assert test_labels.shape == (10000,)\n",
        "\n",
        "#train_dataset = tf.concat([train_images, train_labels], 1)\n",
        "train_dataset = tf.data.Dataset.from_tensor_slices((train_images, train_labels))\n",
        "test_dataset = tf.data.Dataset.from_tensor_slices((test_images, test_labels))\n",
        "\n",
        "def preprocessing(tensor):\n",
        "  tensor = tensor.map(lambda images, labels: (tf.expand_dims(images, -1), tf.one_hot(labels, 10)))\n",
        "  #cache this progress in memory, as there is no need to redo it; it is deterministic after all\n",
        "  tensor = tensor.cache()\n",
        "  #shuffle, batch, prefetch\n",
        "  tensor = tensor.shuffle(1000)\n",
        "  tensor = tensor.batch(32)\n",
        "  tensor = tensor.prefetch(20)\n",
        "  #return preprocessed dataset\n",
        "  return tensor\n",
        "\n",
        "train_dataset = train_dataset.apply(preprocessing)\n",
        "test_dataset = test_dataset.apply(preprocessing)\n"
      ],
      "execution_count": 9,
      "outputs": []
    },
    {
      "cell_type": "markdown",
      "metadata": {
        "id": "U7ZdbiwBMsoC"
      },
      "source": [
        "# 2 Model\n",
        "Although the basic procedure of defining a CNN Model is the same, you will need to\n",
        "use entirely different layers this week. We want you to experiment a bit with how to\n",
        "structure your CNN but here are some general hints:\n",
        "• You may want to alternate between convolutional layers and pooling layers. 3\n",
        "• Find the middle ground between the depth of the network and the number of filters\n",
        "used in each layer. Maybe consider the idea of the receptive field when deciding\n",
        "on the parameters. 4\n",
        "• Find the right parameters for the layers.5\n",
        "• As this is an image classification task, make sure to have a classifier architecture\n",
        "following your convolutional and pooling operations. 6\n",
        "\n",
        "A kernel size of 3, no stride and ’same’ padding usually is a good starting point. For filter sizes, we\n",
        "didn’t use more than 64 filters per layer, but feel free to experiment (be aware of lengthy training times\n",
        "though)\n",
        "\n",
        "Apply Global Average Pooling followed by a Dense layer with the number of units depending on\n",
        "your number of classes. Use a softmax activation.\n",
        "\n"
      ]
    },
    {
      "cell_type": "code",
      "metadata": {
        "id": "W3VwMfTDmcff"
      },
      "source": [
        "class MyModel(tf.keras.Model):\n",
        "    \n",
        "    def __init__(self):\n",
        "        super(MyModel, self).__init__()\n",
        "        self.conv1 = tf.keras.layers.Conv2D(filters=32, kernel_size=(3, 3), padding='same', activation='relu', input_shape=(28, 28))\n",
        "        self.maxpooling1 = tf.keras.layers.MaxPooling2D((2, 2))\n",
        "        self.conv2 = tf.keras.layers.Conv2D(filters=64, kernel_size=(3, 3), padding='same', activation='relu')\n",
        "        self.maxpooling2 = tf.keras.layers.MaxPooling2D((2, 2))\n",
        "        self.conv3 = tf.keras.layers.Conv2D(filters=64, kernel_size=(3, 3), padding='same', activation='relu')\n",
        "        #flatten layer global average or max pooling\n",
        "        self.flatten = tf.keras.layers.GlobalMaxPooling2D()\n",
        "        self.dense1 = tf.keras.layers.Dense(10, activation='softmax')\n",
        "\n",
        "\n",
        "    @tf.function\n",
        "    def call(self, inputs):\n",
        "        x = self.conv1(inputs)\n",
        "        x = self.maxpooling1(x)\n",
        "        x = self.conv2(x)\n",
        "        x = self.maxpooling2(x)\n",
        "        x = self.conv3(x)\n",
        "        x = self.flatten(x)\n",
        "        x = self.dense1(x)\n",
        "        return x\n",
        "    "
      ],
      "execution_count": 10,
      "outputs": []
    },
    {
      "cell_type": "code",
      "metadata": {
        "id": "nbpKXtTa1wVo"
      },
      "source": [
        "# Receptive Field Size \n",
        "\n"
      ],
      "execution_count": null,
      "outputs": []
    },
    {
      "cell_type": "markdown",
      "metadata": {
        "id": "ADFcsOgYRV-H"
      },
      "source": [
        "# 3 Training \n",
        "\n",
        "Start by training your network for 10 epochs using a learning rate of 0.1. You can\n",
        "again copy most of the training procedure from previous scripts. 7 You may use all the\n",
        "optimization and regularization techniques that you wish and find applicable.\n",
        "To pass this task, achieve at least an accuracy of 85% on the test dataset. 8\n",
        "\n"
      ]
    },
    {
      "cell_type": "code",
      "metadata": {
        "id": "xGM4S2RHp4zB"
      },
      "source": [
        "def train_step(model, input, target, loss_function, optimizer):\n",
        "  # loss_object and optimizer_object are instances of respective tensorflow classes\n",
        "  with tf.GradientTape() as tape:\n",
        "    prediction = model(input)\n",
        "    loss = loss_function(target, prediction)\n",
        "    gradients = tape.gradient(loss, model.trainable_variables)\n",
        "  optimizer.apply_gradients(zip(gradients, model.trainable_variables))\n",
        "  return loss\n",
        "\n",
        "def test(model, test_data, loss_function):\n",
        "  # test over complete test data\n",
        "\n",
        "  test_accuracy_aggregator = []\n",
        "  test_loss_aggregator = []\n",
        "\n",
        "  for (input, target) in test_data:\n",
        "    prediction = model(input)\n",
        "    sample_test_loss = loss_function(target, prediction)\n",
        "    sample_test_accuracy =  np.argmax(target, axis=1) == np.argmax(prediction, axis=1)\n",
        "    sample_test_accuracy = np.mean(sample_test_accuracy)\n",
        "    test_loss_aggregator.append(sample_test_loss.numpy())\n",
        "    test_accuracy_aggregator.append(np.mean(sample_test_accuracy))\n",
        "\n",
        "  test_loss = tf.reduce_mean(test_loss_aggregator)\n",
        "  test_accuracy = tf.reduce_mean(test_accuracy_aggregator)\n",
        "\n",
        "  return test_loss, test_accuracy"
      ],
      "execution_count": 13,
      "outputs": []
    },
    {
      "cell_type": "code",
      "metadata": {
        "colab": {
          "base_uri": "https://localhost:8080/"
        },
        "id": "j2bk6joDrLFX",
        "outputId": "bed79fc9-dfac-4763-d997-4a216eafa2f7"
      },
      "source": [
        "# Put everything together\n",
        "\n",
        "'''\n",
        "Then train your network for 10 epochs using a learning rate of 0.1. As a loss use the\n",
        "categorical cross entropy. As an optimizer use SGD.\n",
        "'''\n",
        "\n",
        "tf.keras.backend.clear_session()\n",
        "\n",
        "#For showcasing we only use a subset of the training and test data (generally use all of the available data!)\n",
        "#train_dataset = train_dataset.take(1000)\n",
        "#test_dataset = test_dataset.take(100)\n",
        "\n",
        "### Hyperparameters\n",
        "num_epochs = 10\n",
        "learning_rate = 0.001\n",
        "\n",
        "# Initialize the model.\n",
        "model = MyModel()\n",
        "# Initialize the loss.\n",
        "cross_entropy_loss = tf.keras.losses.CategoricalCrossentropy()\n",
        "# Initialize the optimizer.\n",
        "optimizer = tf.keras.optimizers.Adam(learning_rate)\n",
        "\n",
        "# Initialize lists for later visualization.\n",
        "train_losses = []\n",
        "train_accuracies = []\n",
        "\n",
        "test_losses = []\n",
        "test_accuracies = []\n",
        "\n",
        "#testing once before we begin\n",
        "test_loss, test_accuracy = test(model, test_dataset, cross_entropy_loss)\n",
        "test_losses.append(test_loss)\n",
        "test_accuracies.append(test_accuracy)\n",
        "\n",
        "#check how model performs on train data once before we begin\n",
        "train_loss, train_accuracy = test(model, train_dataset, cross_entropy_loss)\n",
        "train_losses.append(train_loss)\n",
        "train_accuracies.append(train_accuracy)\n",
        "\n",
        "\n",
        "# We train for num_epochs epochs.\n",
        "for epoch in range(num_epochs):\n",
        "    print(f'Epoch: {str(epoch)} starting with accuracy {test_accuracies[-1]}')\n",
        "    \n",
        "    #training (and checking in with training)\n",
        "    epoch_loss_agg = []\n",
        "    for input,target in train_dataset:\n",
        "        train_loss = train_step(model, input, target, cross_entropy_loss, optimizer)\n",
        "        epoch_loss_agg.append(train_loss)\n",
        "    \n",
        "    #track training loss\n",
        "    train_losses.append(tf.reduce_mean(epoch_loss_agg))\n",
        "\n",
        "    #testing, so we can track accuracy and test loss\n",
        "    test_loss, test_accuracy = test(model, test_dataset, cross_entropy_loss)\n",
        "    test_losses.append(test_loss)\n",
        "    test_accuracies.append(test_accuracy)\n",
        "    print(f'Train Losses: {train_loss}, Test Losses: {test_loss}')"
      ],
      "execution_count": 14,
      "outputs": [
        {
          "output_type": "stream",
          "name": "stdout",
          "text": [
            "Epoch: 0 starting with accuracy 0.0994408945686901\n",
            "Train Losses: 0.2571730315685272, Test Losses: 0.38099825382232666\n",
            "Epoch: 1 starting with accuracy 0.8616214057507987\n",
            "Train Losses: 0.2558862864971161, Test Losses: 0.33777713775634766\n",
            "Epoch: 2 starting with accuracy 0.87689696485623\n",
            "Train Losses: 0.11835536360740662, Test Losses: 0.3318798542022705\n",
            "Epoch: 3 starting with accuracy 0.8782947284345048\n",
            "Train Losses: 0.3854769170284271, Test Losses: 0.2863708436489105\n",
            "Epoch: 4 starting with accuracy 0.8962659744408946\n",
            "Train Losses: 0.15222887694835663, Test Losses: 0.28284886479377747\n",
            "Epoch: 5 starting with accuracy 0.900758785942492\n",
            "Train Losses: 0.10465922951698303, Test Losses: 0.2784772217273712\n",
            "Epoch: 6 starting with accuracy 0.9022563897763578\n",
            "Train Losses: 0.15338842570781708, Test Losses: 0.25975656509399414\n",
            "Epoch: 7 starting with accuracy 0.9072484025559105\n",
            "Train Losses: 0.06908796727657318, Test Losses: 0.26980772614479065\n",
            "Epoch: 8 starting with accuracy 0.9035543130990416\n",
            "Train Losses: 0.16289660334587097, Test Losses: 0.2618984878063202\n",
            "Epoch: 9 starting with accuracy 0.9072484025559105\n",
            "Train Losses: 0.06696196645498276, Test Losses: 0.24970491230487823\n"
          ]
        }
      ]
    },
    {
      "cell_type": "markdown",
      "metadata": {
        "id": "lZnQ8A-b2LO5"
      },
      "source": [
        "# Receptive Field Size \n",
        "Compute the receptive field size of the final layer of your convolutional Neural\n",
        "Network. Provide step by step computations with explanations to follow what and\n",
        "why you are doing these computational steps. Does your receptive field size cover\n",
        "the whole input region / a sufficiently large enough region of the input to perform\n",
        "the task? In doubt, incorporate your findings to adjust your network architecture\n",
        "to boost up the accuracy.\n",
        "\n",
        "• Optional: As later you will have to deal with more complex architectures to actually analytically compute the receptive field size, you may want to try and automatize the process. Feel free to come up with your own algorithm / way of doing so\n",
        "or for example make use of this library.\n"
      ]
    },
    {
      "cell_type": "code",
      "metadata": {
        "id": "gckk4l2H5Zm9"
      },
      "source": [
        " def __init__(self):\n",
        "        super(MyModel, self).__init__()\n",
        "        self.conv1 = tf.keras.layers.Conv2D(filters=32, kernel_size=(3, 3), padding='same', activation='relu', input_shape=(28, 28))\n",
        "        self.maxpooling1 = tf.keras.layers.MaxPooling2D((2, 2))\n",
        "        self.conv2 = tf.keras.layers.Conv2D(filters=64, kernel_size=(3, 3), padding='same', activation='relu')\n",
        "        self.maxpooling2 = tf.keras.layers.MaxPooling2D((2, 2))\n",
        "        self.conv3 = tf.keras.layers.Conv2D(filters=64, kernel_size=(3, 3), padding='same', activation='relu')\n",
        "        #flatten layer global average or max pooling\n",
        "        self.flatten = tf.keras.layers.GlobalMaxPooling2D()\n",
        "        self.dense1 = tf.keras.layers.Dense(10, activation='softmax'"
      ],
      "execution_count": null,
      "outputs": []
    },
    {
      "cell_type": "code",
      "metadata": {
        "colab": {
          "base_uri": "https://localhost:8080/"
        },
        "id": "_8741BxJ14OY",
        "outputId": "2e64362c-1d80-459a-fb4a-884a8e101524"
      },
      "source": [
        "\n",
        "#Compute input size that leads to a 1x1 output size, among other things   \n",
        "# [filter size, stride, padding]\n",
        "\n",
        "conv_net = {\n",
        "    'conv1': [3,1,1],\n",
        "    'pool1': [2,1,0],\n",
        "    'conv2': [3,1,1],\n",
        "    'pool2': [2,1,0],\n",
        "    'conv3': [3,1,1],\n",
        "    'dense1': [1,1,0]\n",
        "}\n",
        "\n",
        "class ReceptiveFieldCalculator():\n",
        "    def calculate(self, architecture, input_image_size):\n",
        "        input_layer = ('input_layer', input_image_size, 3, 1, 1.5)\n",
        "        self._print_layer_info(input_layer)\n",
        "        \n",
        "        for key in architecture:\n",
        "            current_layer = self._calculate_layer_info(architecture[key], input_layer, key)\n",
        "            self._print_layer_info(current_layer)\n",
        "            input_layer = current_layer\n",
        "            \n",
        "    def _print_layer_info(self, layer):\n",
        "        print(f'------')\n",
        "        print(f'{layer[0]}: n = {layer[1]}; r = {layer[2]}; j = {layer[3]}; start = {layer[4]}')     \n",
        "        print(f'------')\n",
        "            \n",
        "    def _calculate_layer_info(self, current_layer, input_layer, layer_name):\n",
        "        n_in = input_layer[1]\n",
        "        j_in = input_layer[2]\n",
        "        r_in = input_layer[3]\n",
        "        start_in = input_layer[4]\n",
        "        \n",
        "        k = current_layer[0]\n",
        "        s = current_layer[1]\n",
        "        p = current_layer[2]\n",
        "\n",
        "        n_out = math.floor((n_in - k + 2*p)/s) + 1\n",
        "        padding = (n_out-1)*s - n_in + k \n",
        "        p_right = math.ceil(padding/2)\n",
        "        p_left = math.floor(padding/2)\n",
        "\n",
        "        j_out = j_in * s\n",
        "        r_out = r_in + (k - 1)*j_in\n",
        "        start_out = start_in + ((k-1)/2 - p_left)*j_in\n",
        "        return layer_name, n_out, j_out, r_out, start_out\n",
        "\n",
        "calculator = ReceptiveFieldCalculator()\n",
        "calculator.calculate(conv_net, 28)"
      ],
      "execution_count": 28,
      "outputs": [
        {
          "output_type": "stream",
          "name": "stdout",
          "text": [
            "------\n",
            "input_layer: n = 28; r = 3; j = 1; start = 1.5\n",
            "------\n",
            "------\n",
            "conv1: n = 28; r = 3; j = 7; start = 1.5\n",
            "------\n",
            "------\n",
            "pool1: n = 27; r = 3; j = 10; start = 3.0\n",
            "------\n",
            "------\n",
            "conv2: n = 27; r = 3; j = 16; start = 3.0\n",
            "------\n",
            "------\n",
            "pool2: n = 26; r = 3; j = 19; start = 4.5\n",
            "------\n",
            "------\n",
            "conv3: n = 26; r = 3; j = 25; start = 4.5\n",
            "------\n",
            "------\n",
            "dense1: n = 26; r = 3; j = 25; start = 4.5\n",
            "------\n"
          ]
        }
      ]
    },
    {
      "cell_type": "markdown",
      "metadata": {
        "id": "eL_AnsvZMgR3"
      },
      "source": [
        "#4 Visualization\n",
        "Visualize accuracy and loss for training and test data using matplotlib.\n"
      ]
    },
    {
      "cell_type": "code",
      "metadata": {
        "id": "yLD9tS2ZO_3u",
        "colab": {
          "base_uri": "https://localhost:8080/",
          "height": 279
        },
        "outputId": "eb8fc39c-1754-4fcd-d403-ee07691a2ad2"
      },
      "source": [
        "# Visualisations\n",
        "\n",
        "import matplotlib.pyplot as plt\n",
        "\n",
        "# Visualize accuracy and loss for training and test data.\n",
        "plt.figure()\n",
        "line1, = plt.plot(train_losses)\n",
        "line2, = plt.plot(test_losses)\n",
        "line3, = plt.plot(test_accuracies)\n",
        "plt.xlabel(\"Training steps\")\n",
        "plt.ylabel(\"Loss/Accuracy\")\n",
        "plt.legend((line1,line2, line3),(\"training losses\",\"test losses\", \"test accuracy\"))\n",
        "plt.show()"
      ],
      "execution_count": null,
      "outputs": [
        {
          "output_type": "display_data",
          "data": {
            "image/png": "[encoded data removed]",
            "text/plain": [
              "<Figure size 432x288 with 1 Axes>"
            ]
          },
          "metadata": {
            "needs_background": "light"
          }
        }
      ]
    },
    {
      "cell_type": "code",
      "metadata": {
        "id": "6SLRNUuOXkp1",
        "colab": {
          "base_uri": "https://localhost:8080/",
          "height": 122
        },
        "outputId": "5f65eba5-60f5-456b-b9be-64d0b7d513a5"
      },
      "source": [
        "'''\n",
        "Baselines: \n",
        "Epoch 1/10\n",
        "1875/1875 [==============================] - 25s 8ms/step - loss: 0.4923 - accuracy: 0.8175 - val_loss: 0.3930 - val_accuracy: 0.8581\n",
        "Epoch 2/10\n",
        "1875/1875 [==============================] - 15s 8ms/step - loss: 0.3233 - accuracy: 0.8822 - val_loss: 0.3101 - val_accuracy: 0.8890\n",
        "Epoch 3/10\n",
        "1875/1875 [==============================] - 15s 8ms/step - loss: 0.2773 - accuracy: 0.8984 - val_loss: 0.3073 - val_accuracy: 0.8878\n",
        "Epoch 4/10\n",
        "1875/1875 [==============================] - 15s 8ms/step - loss: 0.2472 - accuracy: 0.9084 - val_loss: 0.2738 - val_accuracy: 0.8996\n",
        "Epoch 5/10\n",
        "1875/1875 [==============================] - 15s 8ms/step - loss: 0.2271 - accuracy: 0.9158 - val_loss: 0.2704 - val_accuracy: 0.9029\n",
        "Epoch 6/10\n",
        "1875/1875 [==============================] - 15s 8ms/step - loss: 0.2034 - accuracy: 0.9240 - val_loss: 0.2629 - val_accuracy: 0.9026\n",
        "Epoch 7/10\n",
        "1875/1875 [==============================] - 15s 8ms/step - loss: 0.1861 - accuracy: 0.9309 - val_loss: 0.2653 - val_accuracy: 0.9041\n",
        "Epoch 8/10\n",
        "1875/1875 [==============================] - 15s 8ms/step - loss: 0.1698 - accuracy: 0.9368 - val_loss: 0.2725 - val_accuracy: 0.9077\n",
        "Epoch 9/10\n",
        "1875/1875 [==============================] - 15s 8ms/step - loss: 0.1565 - accuracy: 0.9411 - val_loss: 0.2815 - val_accuracy: 0.9086\n",
        "Epoch 10/10\n",
        "1875/1875 [==============================] - 16s 8ms/step - loss: 0.1435 - accuracy: 0.9459 - val_loss: 0.2812 - val_accuracy: 0.9108\n",
        "'''\n",
        "\n",
        "\n",
        "'''\n",
        "# receptive field code \n",
        "\n",
        "from receptivefield.image import get_default_image\n",
        "from receptivefield.keras import KerasReceptiveField\n",
        "\n",
        "# define model function\n",
        "def model_build_func(input_shape):\n",
        "    act = 'linear' # see Remarks\n",
        "    inp = Input(shape=input_shape, name='input_image')\n",
        "    x = Conv2D(32, (7, 7), activation=act)(inp)\n",
        "    x = Conv2D(32, (5, 5), activation=act)(x)\n",
        "    x = AvgPool2D()(x)\n",
        "    x = Conv2D(64, (5, 5), activation=act, name='feature_grid')(x)\n",
        "    x = AvgPool2D()(x)\n",
        "    model = Model(inp, x)\n",
        "    return model\n",
        "\n",
        "shape = [64, 64, 3]\n",
        "# compute receptive field\n",
        "rf = KerasReceptiveField(model_build_func, init_weights=True)\n",
        "rf_params = rf.compute(shape, 'input_image', ['feature_grid'])\n",
        "# debug receptive field\n",
        "rf.plot_rf_grids(get_default_image(shape, name='doge'))\n",
        "'''"
      ],
      "execution_count": null,
      "outputs": [
        {
          "output_type": "execute_result",
          "data": {
            "application/vnd.google.colaboratory.intrinsic+json": {
              "type": "string"
            },
            "text/plain": [
              "\"\\n# receptive field code \\n\\nfrom receptivefield.image import get_default_image\\nfrom receptivefield.keras import KerasReceptiveField\\n\\n# define model function\\ndef model_build_func(input_shape):\\n    act = 'linear' # see Remarks\\n    inp = Input(shape=input_shape, name='input_image')\\n    x = Conv2D(32, (7, 7), activation=act)(inp)\\n    x = Conv2D(32, (5, 5), activation=act)(x)\\n    x = AvgPool2D()(x)\\n    x = Conv2D(64, (5, 5), activation=act, name='feature_grid')(x)\\n    x = AvgPool2D()(x)\\n    model = Model(inp, x)\\n    return model\\n\\nshape = [64, 64, 3]\\n# compute receptive field\\nrf = KerasReceptiveField(model_build_func, init_weights=True)\\nrf_params = rf.compute(shape, 'input_image', ['feature_grid'])\\n# debug receptive field\\nrf.plot_rf_grids(get_default_image(shape, name='doge'))\\n\""
            ]
          },
          "metadata": {},
          "execution_count": 7
        }
      ]
    }
  ]
}