{
 "cells": [
  {
   "cell_type": "code",
   "execution_count": 3,
   "id": "24ae9c7f",
   "metadata": {},
   "outputs": [],
   "source": [
    "# lib\n",
    "import numpy as np\n",
    "import tensorflow as tf\n",
    "import tensorflow_datasets as tfds\n",
    "import matplotlib.pyplot as plt\n",
    "#import time"
   ]
  },
  {
   "cell_type": "markdown",
   "id": "80e42187",
   "metadata": {},
   "source": [
    "# DataSet"
   ]
  },
  {
   "cell_type": "code",
   "execution_count": null,
   "id": "8e7d8801",
   "metadata": {},
   "outputs": [],
   "source": [
    "# Load dataset\n",
    "train_rawdata, test_rawdata = tfds.load('genomics_ood', split=['train[:80%]', 'train[80%:]'], as_supervised=True)\n",
    "\n",
    "train_rawdata = train_rawdata.take(100000)\n",
    "test_rawdata = test_rawdata.take(1000)"
   ]
  },
  {
   "cell_type": "markdown",
   "id": "a3663407",
   "metadata": {},
   "source": [
    "# Preprocess data"
   ]
  },
  {
   "cell_type": "code",
   "execution_count": null,
   "id": "9df43236",
   "metadata": {},
   "outputs": [],
   "source": []
  },
  {
   "cell_type": "code",
   "execution_count": null,
   "id": "7e2ac6f4",
   "metadata": {},
   "outputs": [],
   "source": []
  },
  {
   "cell_type": "markdown",
   "id": "8e01d4f1",
   "metadata": {},
   "source": [
    "# Model"
   ]
  },
  {
   "cell_type": "code",
   "execution_count": 4,
   "id": "560d6046",
   "metadata": {},
   "outputs": [],
   "source": [
    "#from tensorflow.keras import Model\n",
    "# from tensorflow.keras.layers import Layer\n",
    "\n",
    "class Model(tf.keras.Model):\n",
    "\n",
    "    def __init__(self):\n",
    "        super(Model, self).__init__()\n",
    "\n",
    "        self.hidden_layer_1 = tf.keras.layers.Dense(units=256, activation=tf.keras.activations.sigmoid)\n",
    "\n",
    "        self.hidden_layer_2 = tf.keras.layers.Dense(units=256, activation=tf.keras.activations.sigmoid)\n",
    "        \n",
    "        self.output_layer = tf.keras.layers.Dense(units=10, activation=tf.keras.activations.softmax)\n",
    "    \n",
    "    # Forward step \n",
    "    def call(self, x):\n",
    "        # Forwardstep\n",
    "        x = self.hidden_layer_1(x)\n",
    "        x = self.hidden_layer_2(x)\n",
    "        x = self.output_layer(x)\n",
    "        return x\n",
    "    "
   ]
  }
 ],
 "metadata": {
  "kernelspec": {
   "display_name": "Python 3 (ipykernel)",
   "language": "python",
   "name": "python3"
  },
  "language_info": {
   "codemirror_mode": {
    "name": "ipython",
    "version": 3
   },
   "file_extension": ".py",
   "mimetype": "text/x-python",
   "name": "python",
   "nbconvert_exporter": "python",
   "pygments_lexer": "ipython3",
   "version": "3.7.11"
  }
 },
 "nbformat": 4,
 "nbformat_minor": 5
}
