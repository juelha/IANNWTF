{
  "nbformat": 4,
  "nbformat_minor": 0,
  "metadata": {
    "colab": {
      "name": "hw08_Sabine.ipynb",
      "provenance": [],
      "collapsed_sections": [],
      "authorship_tag": "ABX9TyOqIbhHId2ST2dM9oxO0gyo",
      "include_colab_link": true
    },
    "kernelspec": {
      "name": "python3",
      "display_name": "Python 3"
    },
    "language_info": {
      "name": "python"
    },
    "accelerator": "GPU"
  },
  "cells": [
    {
      "cell_type": "markdown",
      "metadata": {
        "id": "view-in-github",
        "colab_type": "text"
      },
      "source": [
        "<a href=\"https://colab.research.google.com/github/juelha/IANNWTF/blob/main/hw8.ipynb\" target=\"_parent\"><img src=\"https://colab.research.google.com/assets/colab-badge.svg\" alt=\"Open In Colab\"/></a>"
      ]
    },
    {
      "cell_type": "code",
      "execution_count": 128,
      "metadata": {
        "id": "pcnVmUQUzs_4"
      },
      "outputs": [],
      "source": [
        "# imports\n",
        "import tensorflow as tf \n",
        "import tensorflow_datasets as tfds\n",
        "from tensorflow import keras\n",
        "import numpy as np\n",
        "import matplotlib.pyplot as plt\n",
        "from sklearn.manifold import TSNE"
      ]
    },
    {
      "cell_type": "code",
      "source": [
        "# dataset and preprosessing\n",
        "(x_train, y_train), (x_test, y_test) = keras.datasets.mnist.load_data()\n",
        "\n",
        "assert x_train.shape == (60000, 28, 28)\n",
        "assert x_test.shape == (10000, 28, 28)\n",
        "assert y_train.shape == (60000,)\n",
        "assert y_test.shape == (10000,)\n",
        "\n",
        "# a seperate tensor used for later modelling\n",
        "for_TSNE = tf.data.Dataset.from_tensor_slices((x_test, y_test))\n",
        "\n",
        "# the tensors we will use for the main model\n",
        "x_train = tf.data.Dataset.from_tensor_slices(x_train)\n",
        "x_test = tf.data.Dataset.from_tensor_slices(x_test)\n",
        "\n",
        "def add_noise(images): \n",
        "  return tf.add(images, tf.random.normal((28,28,1), mean=0, stddev=0.3)) # increase the stddev to make the images even noiser, and the model have to work even harder :D\n",
        "\n",
        "def preprocessing(tensor):\n",
        "  tensor = tensor.map(lambda tensor: (tf.cast(tensor, tf.float32) / 255.)) # normalise\n",
        "  tensor = tensor.map(lambda tensor: (tf.expand_dims(tensor, -1))) # make 3D tensor in case we add more filters\n",
        "  tensor = tensor.map(lambda tensor: (add_noise(tensor), tensor)) # add noise with random 28,28 matrix \n",
        "  tensor = tensor.map(lambda images, target: (tf.clip_by_value(images, clip_value_min=0, clip_value_max=1), target)) # keep values normalised by clipping even after having added noise\n",
        "  # the normal cache, shuffle, batch, prefetch\n",
        "  tensor = tensor.cache()\n",
        "  tensor = tensor.shuffle(1000)\n",
        "  tensor = tensor.batch(32)\n",
        "  tensor = tensor.prefetch(20)\n",
        "  return tensor\n",
        "\n",
        "train_dataset = x_train.apply(preprocessing)\n",
        "test_dataset = x_test.apply(preprocessing)\n",
        "\n",
        "# seperate processing for the t-SNE that includes an unnoisy image and the actual number target\n",
        "def preprocessing_TSNE(tensor): \n",
        "  tensor = tensor.map(lambda image, target: (tf.cast(image, tf.float32) / 255., target))\n",
        "  tensor = tensor.map(lambda image, target: (tf.expand_dims(image, -1), target))\n",
        "  tensor = tensor.cache()\n",
        "  tensor = tensor.shuffle(1000)\n",
        "  tensor = tensor.batch(32)\n",
        "  tensor = tensor.prefetch(20)\n",
        "  return tensor\n",
        "\n",
        "for_TSNE = for_TSNE.apply(preprocessing_TSNE)\n",
        "\n",
        "\n",
        "# for plotting\n",
        "for image, target in test_dataset: \n",
        "  image_model = image\n",
        "  image_noisy = image.numpy()\n",
        "  print(image_model.shape, image_noisy.shape)\n",
        "  break\n",
        "\n",
        "print(train_dataset)\n",
        "print(tf.data.experimental.cardinality(train_dataset), tf.data.experimental.cardinality(test_dataset))"
      ],
      "metadata": {
        "colab": {
          "base_uri": "https://localhost:8080/"
        },
        "id": "VwysDsYB0mhl",
        "outputId": "d8880f62-04f9-4b2e-c6ec-662619c422e6"
      },
      "execution_count": 139,
      "outputs": [
        {
          "output_type": "stream",
          "name": "stdout",
          "text": [
            "(32, 28, 28, 1) (32, 28, 28, 1)\n",
            "<PrefetchDataset shapes: ((None, 28, 28, 1), (None, 28, 28, 1)), types: (tf.float32, tf.float32)>\n",
            "tf.Tensor(1875, shape=(), dtype=int64) tf.Tensor(313, shape=(), dtype=int64)\n"
          ]
        }
      ]
    },
    {
      "cell_type": "code",
      "source": [
        "# Encoder class with a default embedding latency size of 10\n",
        "class Encoder(tf.keras.Model): \n",
        "  def __init__(self, latent_dim=10): \n",
        "    super(Encoder, self).__init__()\n",
        "    self.conv1 = tf.keras.layers.Conv2D(filters=32, kernel_size=(3, 3), strides=(2,2), padding='same', activation='relu', input_shape=(28, 28)) # reduce feature map to (14,14,32) with striding\n",
        "    self.maxpooling = tf.keras.layers.MaxPooling2D((2,2)) # pool to map of size (7,7,32) \n",
        "    self.flatten = tf.keras.layers.Flatten() # flatten for dense layer\n",
        "    self.dense1 = tf.keras.layers.Dense(7*7*64, activation='relu') # neat trick to ensure the shapes match for reshaping in the decoder\n",
        "    self.dense2 = tf.keras.layers.Dense(latent_dim) # final output for decoder\n",
        "\n",
        "  @tf.function\n",
        "  def call(self, input):\n",
        "    x = self.conv1(input)\n",
        "    x = self.maxpooling(x)\n",
        "    x = self.flatten(x)\n",
        "    x = self.dense1(x)\n",
        "    x = self.dense2(x)\n",
        "    return x"
      ],
      "metadata": {
        "id": "5xlfTlRC2Rpu"
      },
      "execution_count": 130,
      "outputs": []
    },
    {
      "cell_type": "code",
      "source": [
        "# Decoder class to restore dimensionality again of the image, uses ouput of encoder as input\n",
        "class Decoder(tf.keras.Model): \n",
        "  def __init__(self):\n",
        "    super(Decoder, self).__init__()\n",
        "    self.dense = tf.keras.layers.Dense(7*7*64, activation='relu') # ensure a correct number of neurons for reshaping\n",
        "    self.reshape = tf.keras.layers.Reshape((7,7,64)) # restore image into 3 dimensions\n",
        "    self.transconv = tf.keras.layers.Conv2DTranspose(filters=32, kernel_size=(6,6), strides=(3,3), padding='valid', activation='relu') # shape here is (1, 24, 24, 32). Also valid padding means here zero padding which increases the size (opposite to a normal conv layer)\n",
        "    self.transconv2 = tf.keras.layers.Conv2DTranspose(filters=32, kernel_size=(5,5), padding='valid', activation='relu') # shape (1, 28, 28, 32)\n",
        "    self.out = tf.keras.layers.Conv2D(filters=1, kernel_size=(3,3), padding='same', activation='ReLU') #finally, reduce filters to 1 binary function ouput (1, 28, 28, 1) and ReLU function to produce an output image\n",
        "\n",
        "  @tf.function\n",
        "  def call(self, input): \n",
        "    x = self.dense(input)\n",
        "    x = self.reshape(x)\n",
        "    x = self.transconv(x)\n",
        "    x = self.transconv2(x)\n",
        "    x = self.out(x)\n",
        "    return x\n"
      ],
      "metadata": {
        "id": "hSetjJO1Yj5m"
      },
      "execution_count": 131,
      "outputs": []
    },
    {
      "cell_type": "code",
      "source": [
        "# Autoencoder class which consists of an encoder and a decoder, which can be called independently using Autoencoder.encoder or Autoencoder.decoder\n",
        "class Autoencoder(tf.keras.Model): \n",
        "  def __init__(self):\n",
        "    super(Autoencoder, self).__init__()\n",
        "    self.encoder = Encoder()\n",
        "    self.decoder = Decoder()\n",
        "\n",
        "  @tf.function\n",
        "  def call(self, input): \n",
        "    x = self.encoder(input)\n",
        "    x = self.decoder(x)\n",
        "    return x\n",
        "\n",
        "\n",
        "# shape testing section\n",
        "image_shape = (1, 28,28,3)\n",
        "dummy = tf.ones(image_shape)\n",
        "model = Autoencoder()\n",
        "model(dummy)\n",
        "model.summary()\n"
      ],
      "metadata": {
        "id": "UYgJsbpK4fIW",
        "colab": {
          "base_uri": "https://localhost:8080/"
        },
        "outputId": "d098c509-ff3b-40c7-877a-072a403e4d9d"
      },
      "execution_count": 132,
      "outputs": [
        {
          "output_type": "stream",
          "name": "stdout",
          "text": [
            "Model: \"autoencoder_1\"\n",
            "_________________________________________________________________\n",
            " Layer (type)                Output Shape              Param #   \n",
            "=================================================================\n",
            " encoder_1 (Encoder)         multiple                  4952650   \n",
            "                                                                 \n",
            " decoder_1 (Decoder)         multiple                  134177    \n",
            "                                                                 \n",
            "=================================================================\n",
            "Total params: 5,086,827\n",
            "Trainable params: 5,086,827\n",
            "Non-trainable params: 0\n",
            "_________________________________________________________________\n"
          ]
        }
      ]
    },
    {
      "cell_type": "code",
      "source": [
        "# training and testing section\n",
        "def train_step(model, input, target, loss_function, optimizer):\n",
        "  \"\"\"Applys optimizer to all trainable variables of this model to\n",
        "  minimize the loss (loss_function) between the target output and the\n",
        "  predicted ouptut.\n",
        "  :param input: tf.Tensor input to the model\n",
        "  :param target: target output with repect to the input\n",
        "  :return: the loss and the accuracy of the models prediction\n",
        "   \"\"\"\n",
        "  # loss_object and optimizer_object are instances of respective tensorflow classes\n",
        "  with tf.GradientTape() as tape:\n",
        "    prediction = model(input)\n",
        "    loss = loss_function(target, prediction)\n",
        "    gradients = tape.gradient(loss, model.trainable_variables)\n",
        "  optimizer.apply_gradients(zip(gradients, model.trainable_variables))\n",
        "  return loss\n",
        "\n",
        "def test(model, test_data, loss_function):\n",
        "  \"\"\"Calculate the mean loss and accuracy of the model over all elements\n",
        "  of test_data.\n",
        "  :param test_data: model is evaulated for test_data\n",
        "  :param: loss_function: chosen cost function\n",
        "  :return: mean loss and mean accuracy for all datapoints\n",
        "  \"\"\"\n",
        "\n",
        "  # test over complete test data\n",
        "  test_loss_aggregator = []\n",
        "\n",
        "  for (input, target) in test_data:\n",
        "    prediction = model(input)\n",
        "    sample_test_loss = loss_function(target, prediction)\n",
        "    test_loss_aggregator.append(sample_test_loss.numpy())\n",
        "\n",
        "  test_loss = tf.reduce_mean(test_loss_aggregator)\n",
        "  #test_accuracy = tf.reduce_mean(test_accuracy_aggregator)\n",
        "  return test_loss"
      ],
      "metadata": {
        "id": "riwo_Ri3EYS2"
      },
      "execution_count": 133,
      "outputs": []
    },
    {
      "cell_type": "code",
      "source": [
        "# finally putting it all together. \n",
        "tf.keras.backend.clear_session()\n",
        "\n",
        "### Hyperparameters\n",
        "num_epochs = 10\n",
        "learning_rate = 0.001\n",
        "\n",
        "# Initialize the model.\n",
        "model = Autoencoder()\n",
        "# Initialize the loss.\n",
        "cross_entropy_loss = tf.keras.losses.MeanSquaredError()\n",
        "# Initialize the optimizer.\n",
        "optimizer = tf.keras.optimizers.Adam(learning_rate)\n",
        "\n",
        "# Initialize lists for later visualization.\n",
        "train_losses = []\n",
        "\n",
        "test_losses = []\n",
        "\n",
        "#testing once before we begin\n",
        "test_loss = test(model, test_dataset, cross_entropy_loss)\n",
        "test_losses.append(test_loss)\n",
        "\n",
        "#check how model performs on train data once before we begin\n",
        "train_loss = test(model, train_dataset, cross_entropy_loss)\n",
        "train_losses.append(train_loss)\n",
        "\n",
        "# train for num_epochs epochs.\n",
        "for epoch in range(num_epochs):\n",
        "    print(f'Epoch: {str(epoch)} with test loss: {test_losses[-1]}')\n",
        "    \n",
        "    #training (and checking in with training)\n",
        "    epoch_loss_agg = []\n",
        "    for input,target in train_dataset:\n",
        "        train_loss = train_step(model, input, target, cross_entropy_loss, optimizer)\n",
        "        epoch_loss_agg.append(train_loss)\n",
        "    \n",
        "    #track training loss\n",
        "    train_losses.append(tf.reduce_mean(epoch_loss_agg))\n",
        "\n",
        "    #testing, so we can track accuracy and test loss\n",
        "    test_loss = test(model, test_dataset, cross_entropy_loss)\n",
        "    test_losses.append(test_loss)\n",
        "    #test_accuracies.append(test_accuracy)\n",
        "    print(f'Train Losses: {train_loss}, Test Losses: {test_loss}')"
      ],
      "metadata": {
        "colab": {
          "base_uri": "https://localhost:8080/"
        },
        "id": "WBjkMY2oEteI",
        "outputId": "6227e32a-cdab-468e-af4b-46b8ed73d262"
      },
      "execution_count": 140,
      "outputs": [
        {
          "output_type": "stream",
          "name": "stdout",
          "text": [
            "Epoch: 0 with test loss: 0.11392728984355927\n",
            "Train Losses: 0.017584603279829025, Test Losses: 0.017947955057024956\n",
            "Epoch: 1 with test loss: 0.017947955057024956\n",
            "Train Losses: 0.013579456135630608, Test Losses: 0.0156452227383852\n",
            "Epoch: 2 with test loss: 0.0156452227383852\n",
            "Train Losses: 0.010426119901239872, Test Losses: 0.01487306784838438\n",
            "Epoch: 3 with test loss: 0.01487306784838438\n",
            "Train Losses: 0.013841435313224792, Test Losses: 0.014365950599312782\n",
            "Epoch: 4 with test loss: 0.014365950599312782\n",
            "Train Losses: 0.012173798866569996, Test Losses: 0.014307062141597271\n",
            "Epoch: 5 with test loss: 0.014307062141597271\n",
            "Train Losses: 0.011356901377439499, Test Losses: 0.014017421752214432\n",
            "Epoch: 6 with test loss: 0.014017421752214432\n",
            "Train Losses: 0.01204017922282219, Test Losses: 0.014094144105911255\n",
            "Epoch: 7 with test loss: 0.014094144105911255\n",
            "Train Losses: 0.012302280403673649, Test Losses: 0.013996821828186512\n",
            "Epoch: 8 with test loss: 0.013996821828186512\n",
            "Train Losses: 0.010361670516431332, Test Losses: 0.014704026281833649\n",
            "Epoch: 9 with test loss: 0.014704026281833649\n",
            "Train Losses: 0.009746373631060123, Test Losses: 0.014020780101418495\n"
          ]
        }
      ]
    },
    {
      "cell_type": "code",
      "source": [
        "# Comparing noisy images to the reconstructed images that have passed through the model\n",
        "\n",
        "images = model(image_model)\n",
        "images = images.numpy()\n",
        "\n",
        "number = 3 # change this to see other number's from the test set\n",
        "print('Noisy Image:')\n",
        "plt.imshow(np.squeeze(image_noisy[number]))\n",
        "plt.show()\n",
        "print('After Model:')\n",
        "plt.imshow(np.squeeze(images[number]))\n",
        "plt.show()"
      ],
      "metadata": {
        "colab": {
          "base_uri": "https://localhost:8080/",
          "height": 548
        },
        "id": "K_6qUyovTODn",
        "outputId": "a13544fa-6d54-40b0-c691-cde828d6f886"
      },
      "execution_count": 135,
      "outputs": [
        {
          "output_type": "stream",
          "name": "stdout",
          "text": [
            "Noisy Image:\n"
          ]
        },
        {
          "output_type": "display_data",
          "data": {
            "image/png": "[encoded data removed]",
            "text/plain": [
              "<Figure size 432x288 with 1 Axes>"
            ]
          },
          "metadata": {
            "needs_background": "light"
          }
        },
        {
          "output_type": "stream",
          "name": "stdout",
          "text": [
            "After Model:\n"
          ]
        },
        {
          "output_type": "display_data",
          "data": {
            "image/png": "[encoded data removed]",
            "text/plain": [
              "<Figure size 432x288 with 1 Axes>"
            ]
          },
          "metadata": {
            "needs_background": "light"
          }
        }
      ]
    },
    {
      "cell_type": "code",
      "source": [
        "# Latent space analyisis\n",
        "# taking the first 1000 elements from the encoder, reducing the dimensionality of the embeddings to two using t-SNE Then plotted, according to their class\n",
        "\n",
        "test_1000 = for_TSNE.unbatch().take(1000).batch(1000) \n",
        "encoder = model.encoder\n",
        "\n",
        "for image, target in test_1000:\n",
        "  #print(image.shape)\n",
        "  output = encoder(image).numpy()\n",
        "  targets = target.numpy()\n",
        "  print(targets.shape)\n",
        "\n",
        "\n",
        "embedded = TSNE(n_components=2, learning_rate='auto', init='random').fit_transform(output)\n",
        "print(type(embedded), embedded.shape)\n",
        "\n",
        "scatter = plt.scatter(x=embedded[:,0],y=embedded[:,1], c=targets, label=targets)\n"
      ],
      "metadata": {
        "colab": {
          "base_uri": "https://localhost:8080/",
          "height": 300
        },
        "id": "kRLuMYv7XYC4",
        "outputId": "8ce2d3b2-368e-44c7-9120-41a815b4e811"
      },
      "execution_count": 141,
      "outputs": [
        {
          "output_type": "stream",
          "name": "stdout",
          "text": [
            "(1000,)\n",
            "<class 'numpy.ndarray'> (1000, 2)\n"
          ]
        },
        {
          "output_type": "display_data",
          "data": {
            "image/png": "[encoded data removed]",
            "text/plain": [
              "<Figure size 432x288 with 1 Axes>"
            ]
          },
          "metadata": {
            "needs_background": "light"
          }
        }
      ]
    },
    {
      "cell_type": "code",
      "source": [
        "# Visualising the loss for training and test data\n",
        "\n",
        "plt.figure()\n",
        "line1, = plt.plot(train_losses)\n",
        "line2, = plt.plot(test_losses)\n",
        "plt.xlabel(\"Training steps\")\n",
        "plt.ylabel(\"Loss\")\n",
        "plt.legend((line1,line2),(\"training losses\",\"test losses\"))\n",
        "plt.show()"
      ],
      "metadata": {
        "colab": {
          "base_uri": "https://localhost:8080/",
          "height": 279
        },
        "id": "u96Mk3TPWn8s",
        "outputId": "4a1ccf45-a33f-4b5e-8511-88b843d0fdce"
      },
      "execution_count": 142,
      "outputs": [
        {
          "output_type": "display_data",
          "data": {
            "image/png": "[encoded data removed]",
            "text/plain": [
              "<Figure size 432x288 with 1 Axes>"
            ]
          },
          "metadata": {
            "needs_background": "light"
          }
        }
      ]
    },
    {
      "cell_type": "code",
      "source": [
        "''' With ReLU output act function\n",
        "Epoch: 0 with test loss: 0.11394398659467697\n",
        "Train Losses: 0.012479174882173538, Test Losses: 0.015729568898677826\n",
        "Epoch: 1 with test loss: 0.015729568898677826\n",
        "Train Losses: 0.013760209083557129, Test Losses: 0.014141666702926159\n",
        "Epoch: 2 with test loss: 0.014141666702926159\n",
        "Train Losses: 0.016173753887414932, Test Losses: 0.013332214206457138\n",
        "Epoch: 3 with test loss: 0.013332214206457138\n",
        "Train Losses: 0.011437274515628815, Test Losses: 0.01272543054074049\n",
        "Epoch: 4 with test loss: 0.01272543054074049\n",
        "Train Losses: 0.010972761549055576, Test Losses: 0.012433174066245556\n",
        "Epoch: 5 with test loss: 0.012433174066245556\n",
        "Train Losses: 0.012842413038015366, Test Losses: 0.01216734666377306\n",
        "Epoch: 6 with test loss: 0.01216734666377306\n",
        "Train Losses: 0.011211610399186611, Test Losses: 0.012082146480679512\n",
        "Epoch: 7 with test loss: 0.012082146480679512\n",
        "Train Losses: 0.011091058142483234, Test Losses: 0.01200890727341175\n",
        "Epoch: 8 with test loss: 0.01200890727341175\n",
        "Train Losses: 0.011684711091220379, Test Losses: 0.011831773445010185\n",
        "Epoch: 9 with test loss: 0.011831773445010185\n",
        "'''\n",
        "\n",
        "''' With sigmoid not as good. So I stuck with ReLU\n",
        "Epoch: 0 with test loss: 0.231459379196167\n",
        "Train Losses: 0.11666858196258545, Test Losses: 0.1139989122748375\n",
        "Epoch: 1 with test loss: 0.1139989122748375\n",
        "Train Losses: 0.11724871397018433, Test Losses: 0.11398673802614212\n",
        "Epoch: 2 with test loss: 0.11398673802614212\n",
        "Train Losses: 0.12434495985507965, Test Losses: 0.11399329453706741\n",
        "Epoch: 3 with test loss: 0.11399329453706741\n",
        "Train Losses: 0.13055045902729034, Test Losses: 0.11398440599441528\n",
        "Epoch: 4 with test loss: 0.11398440599441528\n",
        "Train Losses: 0.11028693616390228, Test Losses: 0.11396195739507675\n",
        "Epoch: 5 with test loss: 0.11396195739507675\n",
        "'''"
      ],
      "metadata": {
        "id": "N24IQIDNUeV7",
        "colab": {
          "base_uri": "https://localhost:8080/",
          "height": 70
        },
        "outputId": "bf7aa920-a812-44d8-f923-2317492c5270"
      },
      "execution_count": 138,
      "outputs": [
        {
          "output_type": "execute_result",
          "data": {
            "application/vnd.google.colaboratory.intrinsic+json": {
              "type": "string"
            },
            "text/plain": [
              "' With sigmoid \\nEpoch: 0 with test loss: 0.231459379196167\\nTrain Losses: 0.11666858196258545, Test Losses: 0.1139989122748375\\nEpoch: 1 with test loss: 0.1139989122748375\\nTrain Losses: 0.11724871397018433, Test Losses: 0.11398673802614212\\nEpoch: 2 with test loss: 0.11398673802614212\\nTrain Losses: 0.12434495985507965, Test Losses: 0.11399329453706741\\nEpoch: 3 with test loss: 0.11399329453706741\\nTrain Losses: 0.13055045902729034, Test Losses: 0.11398440599441528\\nEpoch: 4 with test loss: 0.11398440599441528\\nTrain Losses: 0.11028693616390228, Test Losses: 0.11396195739507675\\nEpoch: 5 with test loss: 0.11396195739507675\\n'"
            ]
          },
          "metadata": {},
          "execution_count": 138
        }
      ]
    }
  ]
}