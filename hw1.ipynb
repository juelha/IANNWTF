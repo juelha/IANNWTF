{
 "cells": [
  {
   "cell_type": "markdown",
   "metadata": {},
   "source": [
    "# Homework 02\n",
    "\n",
    "Group 26, 2021/22"
   ]
  },
  {
   "cell_type": "markdown",
   "metadata": {},
   "source": [
    "## 1)\n",
    "\n",
    " ### a) purpose of activation function\n",
    "\n",
    "An activation function can store information about the input in each given layer due do the fact that its \n",
    " derivative is dependent on the input. This allows backpropagation.\n",
    "\n",
    "\n",
    " ### b) What’s the advantage of e.g. sigmoid over the step function (threshold function)?\n",
    "\n",
    "\n",
    " ### c) How does sigmoid look like (the formula as well as the graph)?\n",
    "\n",
    " formula: $\\sigma(t)=\\frac{1}{1+e^{-t}}$ \n",
    "\n",
    "\n",
    " ### d) What is the derivative of sigmoid?\n",
    "\n",
    " $\\sigma'_i(k) = \\sigma_i(k)\\ (1 - \\sigma_i(k))$\n",
    "\n",
    " Note: is in itself not found in the code bc it gets plugged into the formula of the error signals\n",
    "\n",
    " \n",
    " \n",
    "\n"
   ]
  },
  {
   "cell_type": "code",
   "execution_count": 1,
   "metadata": {},
   "outputs": [],
   "source": [
    "# Implement a function sigmoid(x) and a function sigmoidprime(x) (the derivative.\n",
    "\n",
    "def sigmoid(x): \n",
    "    return 1 / (1 + np.exp(-x))\n",
    "\n",
    "def sigmoidprime(x):\n",
    "    return sigmoid(x)*(1-sigmoid(x))"
   ]
  },
  {
   "cell_type": "code",
   "execution_count": 2,
   "metadata": {},
   "outputs": [
    {
     "data": {
      "text/plain": [
       "[<matplotlib.lines.Line2D at 0x7fc097a28ac0>]"
      ]
     },
     "execution_count": 2,
     "metadata": {},
     "output_type": "execute_result"
    },
    {
     "data": {
      "image/png": "[encoded data removed]",
      "text/plain": [
       "<Figure size 432x288 with 1 Axes>"
      ]
     },
     "metadata": {
      "needs_background": "light"
     },
     "output_type": "display_data"
    }
   ],
   "source": [
    "# plotting\n",
    "import numpy as np\n",
    "import matplotlib.pyplot as plt\n",
    "\n",
    "# 100 linearly spaced numbers\n",
    "x = np.linspace(-6,6,100)\n",
    "y = np.apply_along_axis(sigmoid,0,x)\n",
    "\n",
    "# plot the function\n",
    "plt.plot(x,y, 'r')\n",
    "\n",
    "y = np.apply_along_axis(sigmoidprime, 0, x)\n",
    "plt.plot(x,y, 'r')"
   ]
  },
  {
   "cell_type": "markdown",
   "metadata": {},
   "source": [
    "## 2)"
   ]
  },
  {
   "cell_type": "code",
   "execution_count": 39,
   "metadata": {},
   "outputs": [
    {
     "name": "stdout",
     "output_type": "stream",
     "text": [
      "(4, 2)\n",
      "{'and': [False, False, False, True], 'or': [False, True, True, True], 'nand': [True, True, True, False], 'nor': [True, False, False, False], 'xor': [False, True, True, False]}\n"
     ]
    }
   ],
   "source": [
    "###################################################\n",
    "## data                                          ##\n",
    "###################################################\n",
    "\n",
    "def truthtable(n_col):\n",
    "    \"\"\"generates data (truthvalue pairs) to train perceptron on\"\"\"\n",
    "    if n_col < 1:\n",
    "        return [[]]\n",
    "    subtable = truthtable(n_col-1)\n",
    "    return [row + [v] for row in subtable for v in [0, 1]]\n",
    "\n",
    "\n",
    "test = np.asarray(truthtable(2))\n",
    "\n",
    "\n",
    "###################################################\n",
    "## labels                                        ##\n",
    "###################################################\n",
    "\n",
    "log_operators = {\n",
    "    'and': lambda x: x[0] and x[1],\n",
    "    'or': lambda x: x[0] or x[1],\n",
    "    'nand': lambda x: not (x[0] and x[1]),\n",
    "    'nor': lambda  x: not (x[0] or x[1]),\n",
    "    'xor': lambda  x: (x[0] and not x[1]) or (not x[0] and x[1])\n",
    "}\n",
    "\n",
    "labels = {}\n",
    "for key in log_operators:\n",
    "    labels[key] = []\n",
    "    for x in test: \n",
    "        labels[key].append(bool(log_operators[key](x)))\n",
    "    \n",
    "print(labels)\n",
    "\n"
   ]
  },
  {
   "cell_type": "markdown",
   "metadata": {},
   "source": [
    "## 3) Perceptron\n"
   ]
  },
  {
   "cell_type": "markdown",
   "metadata": {},
   "source": [
    "NOTES:\n",
    "\n",
    "perceptron consists of weights and a bias\n",
    "\n",
    "should receive an integer argument called input_units\n",
    "specifying how many weights are coming in to your Perceptron\n",
    "\n",
    "In the beginning, random values should be assigned to the weights and the bias. use np.random.randn()\n",
    "\n",
    "Also assign the learning\n",
    "rate alpha = 1\n",
    "\n",
    "All of this happens in the init function. Make sure you define weights, bias, alpha with self."
   ]
  },
  {
   "cell_type": "code",
   "execution_count": null,
   "metadata": {},
   "outputs": [],
   "source": [
    "import numpy as np\n",
    "import numpy.random as rnd\n",
    "\n",
    "###################################################\n",
    "## Perceptron                                    ##\n",
    "###################################################\n",
    "\n",
    "class Perceptron():\n",
    "    \n",
    "    def __init__(self, input_units, learning_rate=1):\n",
    "        \n",
    "        self._weights = rnd.normal(size=input_units + 1) # for bias blabla \n",
    "        self._alpha = learning_rate\n",
    "\n",
    "    def sigmoid(self, x):\n",
    "        return 1 / (1 + np.exp(-x))\n",
    "\n",
    "\n",
    "    def forward_step(self,inputs):\n",
    "        \"\"\"calculates the activation of the perceptron\n",
    "            \"Returns:\n",
    "            float: A real number representing the perceptron's activation after \n",
    "            calculating the weighted sum of inputs and applying the \n",
    "            perceptron's activation function.\"\n",
    "            \"\"\"\n",
    "        return self.sigmoid(self._weights @ np.append(1, inputs))\n",
    "\n",
    "    def update(self, delta):\n",
    "        # compute the gradients for weights and bias from the error term δ.\n",
    "        gradient = 0 #gradient of the error loss of the respective parameter\n",
    "\n",
    "        \n",
    "\n",
    "        # update the parameters\n",
    "        self._weights -= self._alpha * gradient\n",
    "        ### END SOLUTION\n",
    "\n",
    "\n",
    "    \n",
    "        \n",
    "\n",
    "\n",
    "\n",
    "\n",
    "    \n",
    "    def train(self, train_data, train_labels, epochs=1, sample_size=5):\n",
    "        \n",
    "        for _ in range(epochs):\n",
    "            # Sample random from the training data.\n",
    "            for idx in rnd.choice(range(train_data.shape[0]), sample_size, replace=False):\n",
    "                self._train_step(train_data[idx], train_labels[idx])\n",
    "        \n",
    "    def predict(self, data):\n",
    "        return self._output(self._activation(data))\n",
    "    \n",
    "    def evaluate(self, test_data, test_labels):\n",
    "        prediction = self.predict(test_data)\n",
    "        error = (np.abs(prediction - test_labels)).mean()\n",
    "\n",
    "        return error\n",
    "        \n",
    "    \n",
    "    \n",
    "    def _output(self, activation):\n",
    "        return (activation >= 0).astype('int32')\n",
    "    \n",
    "    def _train_step(self, data, label):\n",
    "        self._weights += self._alpha * (label - self.predict(data)) * data"
   ]
  }
 ],
 "metadata": {
  "interpreter": {
   "hash": "61024a008e68019e4ec147d832b28336a5ff2f5e1265d3a28dec79ad48f487e3"
  },
  "kernelspec": {
   "display_name": "Python 3.9.7 64-bit ('ann': conda)",
   "name": "python3"
  },
  "language_info": {
   "codemirror_mode": {
    "name": "ipython",
    "version": 3
   },
   "file_extension": ".py",
   "mimetype": "text/x-python",
   "name": "python",
   "nbconvert_exporter": "python",
   "pygments_lexer": "ipython3",
   "version": "3.9.7"
  },
  "orig_nbformat": 4
 },
 "nbformat": 4,
 "nbformat_minor": 2
}
