{
  "nbformat": 4,
  "nbformat_minor": 0,
  "metadata": {
    "colab": {
      "name": "homework04_Sabine.ipynb",
      "provenance": [],
      "collapsed_sections": [],
      "authorship_tag": "ABX9TyP8yhgZWBY4xiQcfC9Q91e2",
      "include_colab_link": true
    },
    "kernelspec": {
      "name": "python3",
      "display_name": "Python 3"
    },
    "language_info": {
      "name": "python"
    },
    "accelerator": "GPU"
  },
  "cells": [
    {
      "cell_type": "markdown",
      "metadata": {
        "id": "view-in-github",
        "colab_type": "text"
      },
      "source": [
        "<a href=\"https://colab.research.google.com/github/juelha/IANNWTF/blob/sabine/homework04_Sabine.ipynb\" target=\"_parent\"><img src=\"https://colab.research.google.com/assets/colab-badge.svg\" alt=\"Open In Colab\"/></a>"
      ]
    },
    {
      "cell_type": "markdown",
      "metadata": {
        "id": "n4ecRW9sPxXh"
      },
      "source": [
        "# Data Set\n",
        "The dataset we want you to\n",
        "work on is the wine quality dataset, containing a set of collected features for each wine\n",
        "and a rank of that wine as found by ’wine experts’ on the scale of 1 to 10.\n",
        "You can also find this dataset in the Tensorflow Datasets Collection , however, as tfds\n",
        "has been proven to be a bit difficult at times, this week we would like you to create your\n",
        "own Tensoflow Dataset from a .csv using pandas 1\n",
        ". Do not worry, this is very easy!\n",
        "\n"
      ]
    },
    {
      "cell_type": "markdown",
      "metadata": {
        "id": "PF-WpL3cUbIT"
      },
      "source": [
        "## 1.1 Load Data into a Dataframe\n",
        "You can download the .csv and store it on your local computer or directly read in the\n",
        "url when working with pandas. Read the data into a pandas dataframe. 2\n",
        "1\n",
        "Wine Quality Dataset: https://archive.ics.uci.edu/ml/machine-learning-databases/wine-quality/winequality-red.csv\n",
        "Make yourself familiar with the dataset.\n",
        "• What keys are there?\n",
        "• What should be the input and what should be the target for our NN? 3"
      ]
    },
    {
      "cell_type": "code",
      "metadata": {
        "id": "yszU8FUyPpF_",
        "colab": {
          "base_uri": "https://localhost:8080/",
          "height": 223
        },
        "outputId": "78a90c8a-ffa7-40c4-f2bf-1b7d368843a6"
      },
      "source": [
        "import pandas as pd\n",
        "import numpy as np\n",
        "import tensorflow as tf\n",
        "from tensorflow.keras.layers import Dense, Activation\n",
        "from sklearn.model_selection import train_test_split\n",
        "ds = pd.read_csv(\n",
        "    \"https://archive.ics.uci.edu/ml/machine-learning-databases/wine-quality/winequality-red.csv\", sep=\";\")\n",
        "\n",
        "ds.head()"
      ],
      "execution_count": 1,
      "outputs": [
        {
          "output_type": "execute_result",
          "data": {
            "text/html": [
              "<div>\n",
              "<style scoped>\n",
              "    .dataframe tbody tr th:only-of-type {\n",
              "        vertical-align: middle;\n",
              "    }\n",
              "\n",
              "    .dataframe tbody tr th {\n",
              "        vertical-align: top;\n",
              "    }\n",
              "\n",
              "    .dataframe thead th {\n",
              "        text-align: right;\n",
              "    }\n",
              "</style>\n",
              "<table border=\"1\" class=\"dataframe\">\n",
              "  <thead>\n",
              "    <tr style=\"text-align: right;\">\n",
              "      <th></th>\n",
              "      <th>fixed acidity</th>\n",
              "      <th>volatile acidity</th>\n",
              "      <th>citric acid</th>\n",
              "      <th>residual sugar</th>\n",
              "      <th>chlorides</th>\n",
              "      <th>free sulfur dioxide</th>\n",
              "      <th>total sulfur dioxide</th>\n",
              "      <th>density</th>\n",
              "      <th>pH</th>\n",
              "      <th>sulphates</th>\n",
              "      <th>alcohol</th>\n",
              "      <th>quality</th>\n",
              "    </tr>\n",
              "  </thead>\n",
              "  <tbody>\n",
              "    <tr>\n",
              "      <th>0</th>\n",
              "      <td>7.4</td>\n",
              "      <td>0.70</td>\n",
              "      <td>0.00</td>\n",
              "      <td>1.9</td>\n",
              "      <td>0.076</td>\n",
              "      <td>11.0</td>\n",
              "      <td>34.0</td>\n",
              "      <td>0.9978</td>\n",
              "      <td>3.51</td>\n",
              "      <td>0.56</td>\n",
              "      <td>9.4</td>\n",
              "      <td>5</td>\n",
              "    </tr>\n",
              "    <tr>\n",
              "      <th>1</th>\n",
              "      <td>7.8</td>\n",
              "      <td>0.88</td>\n",
              "      <td>0.00</td>\n",
              "      <td>2.6</td>\n",
              "      <td>0.098</td>\n",
              "      <td>25.0</td>\n",
              "      <td>67.0</td>\n",
              "      <td>0.9968</td>\n",
              "      <td>3.20</td>\n",
              "      <td>0.68</td>\n",
              "      <td>9.8</td>\n",
              "      <td>5</td>\n",
              "    </tr>\n",
              "    <tr>\n",
              "      <th>2</th>\n",
              "      <td>7.8</td>\n",
              "      <td>0.76</td>\n",
              "      <td>0.04</td>\n",
              "      <td>2.3</td>\n",
              "      <td>0.092</td>\n",
              "      <td>15.0</td>\n",
              "      <td>54.0</td>\n",
              "      <td>0.9970</td>\n",
              "      <td>3.26</td>\n",
              "      <td>0.65</td>\n",
              "      <td>9.8</td>\n",
              "      <td>5</td>\n",
              "    </tr>\n",
              "    <tr>\n",
              "      <th>3</th>\n",
              "      <td>11.2</td>\n",
              "      <td>0.28</td>\n",
              "      <td>0.56</td>\n",
              "      <td>1.9</td>\n",
              "      <td>0.075</td>\n",
              "      <td>17.0</td>\n",
              "      <td>60.0</td>\n",
              "      <td>0.9980</td>\n",
              "      <td>3.16</td>\n",
              "      <td>0.58</td>\n",
              "      <td>9.8</td>\n",
              "      <td>6</td>\n",
              "    </tr>\n",
              "    <tr>\n",
              "      <th>4</th>\n",
              "      <td>7.4</td>\n",
              "      <td>0.70</td>\n",
              "      <td>0.00</td>\n",
              "      <td>1.9</td>\n",
              "      <td>0.076</td>\n",
              "      <td>11.0</td>\n",
              "      <td>34.0</td>\n",
              "      <td>0.9978</td>\n",
              "      <td>3.51</td>\n",
              "      <td>0.56</td>\n",
              "      <td>9.4</td>\n",
              "      <td>5</td>\n",
              "    </tr>\n",
              "  </tbody>\n",
              "</table>\n",
              "</div>"
            ],
            "text/plain": [
              "   fixed acidity  volatile acidity  citric acid  ...  sulphates  alcohol  quality\n",
              "0            7.4              0.70         0.00  ...       0.56      9.4        5\n",
              "1            7.8              0.88         0.00  ...       0.68      9.8        5\n",
              "2            7.8              0.76         0.04  ...       0.65      9.8        5\n",
              "3           11.2              0.28         0.56  ...       0.58      9.8        6\n",
              "4            7.4              0.70         0.00  ...       0.56      9.4        5\n",
              "\n",
              "[5 rows x 12 columns]"
            ]
          },
          "metadata": {},
          "execution_count": 1
        }
      ]
    },
    {
      "cell_type": "markdown",
      "metadata": {
        "id": "FcZ_4dFNXtok"
      },
      "source": [
        "## 1.2 Create a Tensorflow Dataset and a Dataset Pipeline\n",
        "Split the dataset into a train, test and validation split.\n",
        "\n",
        "Separate the labels from the input and store them accordingly. 5\n",
        "\n",
        "Out of the resulting dataframes, build a Tensorflow Dataset.\n",
        "\n",
        "6\n",
        "Now we want to make this a Binary Classification Task: As we are not as sophisticated as our wine experts, we only care about good wine vs. bad wine. Write a function\n",
        "make binary(target) that receives a target and returns a target fit for a binary classification task. 7 You can hardcode (i.e. fix) a threshold or use statistics obtained from\n",
        "your data, e.g. the median ranking of all wines.8\n",
        "Create a Data Pipeline with all the necessary steps. You should at least map the\n",
        "make binary() function to the dataset and apply batching"
      ]
    },
    {
      "cell_type": "code",
      "metadata": {
        "id": "QOy9lBzKRDc5",
        "colab": {
          "base_uri": "https://localhost:8080/",
          "height": 139
        },
        "outputId": "3e454aa1-6990-4edd-c70d-758021d88b7b"
      },
      "source": [
        "# Graveyard attempt at full preprocessing pipeline \n",
        "'''\n",
        "train, validate, test = np.split(ds.sample(frac=1), [int(.6*len(ds)), int(.8*len(ds))])\n",
        "input_labels = ['fixed acidity',\n",
        "        'volatile acidity',\n",
        "        'citric acid',\n",
        "        'residual sugar',\n",
        "        'chlorides',\n",
        "        'free sulfur dioxide',\n",
        "        'total sulfur dioxide',\n",
        "        'density',\n",
        "        'pH',\n",
        "        'sulphates',\n",
        "        'alcohol']\n",
        "\n",
        "print(train.head())\n",
        "\n",
        "def prepare_wine_data(ds):\n",
        "  ds =  pd.DataFrame({'features': [train[input_labels]], 'target': [train['quality']] })\n",
        "\n",
        "  ds = (tf.data.Dataset.from_tensor_slices(\n",
        "        (tf.cast(ds['features'].values, tf.float32), tf.cast(ds['target'].values, tf.int32))))\n",
        " \n",
        "train_dataset = train.apply(prepare_wine_data)\n",
        "\n",
        "\n",
        "\n",
        "def prepare_wine_data(ds):\n",
        "  ds =  pd.DataFrame({'features': [ds.drop('quality', axis=1)], 'target': [ds['quality']] })\n",
        "\n",
        "  ds = (tf.data.Dataset.from_tensor_slices(\n",
        "        (tf.cast(ds['features'].values, tf.float32), tf.cast(target.values, tf.int32))))\n",
        "  \n",
        "  return ds\n",
        "\n",
        "  #cache this progress in memory, as there is no need to redo it; it is deterministic after all\n",
        "  mnist = mnist.cache()\n",
        "  #shuffle, batch, prefetch\n",
        "  mnist = mnist.shuffle(1000)\n",
        "  mnist = mnist.batch(32)\n",
        "  mnist = mnist.prefetch(20)\n",
        "  #return preprocessed dataset\n",
        "  return mnist\n",
        "\n",
        "''' "
      ],
      "execution_count": 2,
      "outputs": [
        {
          "output_type": "execute_result",
          "data": {
            "application/vnd.google.colaboratory.intrinsic+json": {
              "type": "string"
            },
            "text/plain": [
              "\"\\ntrain, validate, test = np.split(ds.sample(frac=1), [int(.6*len(ds)), int(.8*len(ds))])\\ninput_labels = ['fixed acidity',\\n        'volatile acidity',\\n        'citric acid',\\n        'residual sugar',\\n        'chlorides',\\n        'free sulfur dioxide',\\n        'total sulfur dioxide',\\n        'density',\\n        'pH',\\n        'sulphates',\\n        'alcohol']\\n\\nprint(train.head())\\n\\ndef prepare_wine_data(ds):\\n  ds =  pd.DataFrame({'features': [train[input_labels]], 'target': [train['quality']] })\\n\\n  ds = (tf.data.Dataset.from_tensor_slices(\\n        (tf.cast(ds['features'].values, tf.float32), tf.cast(ds['target'].values, tf.int32))))\\n \\ntrain_dataset = train.apply(prepare_wine_data)\\n\\n\\n\\ndef prepare_wine_data(ds):\\n  ds =  pd.DataFrame({'features': [ds.drop('quality', axis=1)], 'target': [ds['quality']] })\\n\\n  ds = (tf.data.Dataset.from_tensor_slices(\\n        (tf.cast(ds['features'].values, tf.float32), tf.cast(target.values, tf.int32))))\\n  \\n  return ds\\n\\n  #cache this progress in memory, as there is no need to redo it; it is deterministic after all\\n  mnist = mnist.cache()\\n  #shuffle, batch, prefetch\\n  mnist = mnist.shuffle(1000)\\n  mnist = mnist.batch(32)\\n  mnist = mnist.prefetch(20)\\n  #return preprocessed dataset\\n  return mnist\\n\\n\""
            ]
          },
          "metadata": {},
          "execution_count": 2
        }
      ]
    },
    {
      "cell_type": "code",
      "metadata": {
        "id": "m4AKjiai1OPO"
      },
      "source": [
        "# TO DO: make this more efficient with a function\n",
        "\n",
        "# splitting into train, validate and test\n",
        "train, validate, test_ = np.split(ds.sample(frac=1), [int(.6*len(ds)), int(.8*len(ds))])\n",
        "\n",
        "# splitting features and targets\n",
        "input_labels = ['fixed acidity','volatile acidity','citric acid','residual sugar','chlorides',\n",
        "                'free sulfur dioxide','total sulfur dioxide','density','pH','sulphates','alcohol']\n",
        "\n",
        "input_train = train[input_labels]\n",
        "target_train = train['quality']\n",
        "\n",
        "input_validate = validate[input_labels]\n",
        "target_validate = validate['quality']\n",
        "\n",
        "input_test = test_[input_labels]\n",
        "target_test = test_['quality']\n",
        "\n",
        "# casting dataframe into tensor\n",
        "training_ds = (tf.data.Dataset.from_tensor_slices(\n",
        "        (tf.cast(input_train.values, tf.float32), tf.cast(target_train.values, tf.int32))))\n",
        "\n",
        "validation_ds = (tf.data.Dataset.from_tensor_slices(\n",
        "        (tf.cast(input_validate.values, tf.float32), tf.cast(target_validate.values, tf.int32))))\n",
        "\n",
        "test_ds = (tf.data.Dataset.from_tensor_slices(\n",
        "        (tf.cast(input_test.values, tf.float32), tf.cast(target_test.values, tf.int32))))\n",
        "\n",
        "# Make_binary function\n",
        "median_quality = np.median(target_train)\n",
        "\n",
        "def make_binary(target):\n",
        "  return(tf.expand_dims(target >= median_quality, -1))\n",
        "\n",
        "# TO DO Include the above preprocessing into the pipeline\n",
        "\n",
        "# Pipeline\n",
        "def pipeline(df):\n",
        "  df = df.map(lambda features, target: (features, make_binary(target)))\n",
        "  df = df.cache()\n",
        "  df = df.shuffle(50)\n",
        "  df = df.batch(32)\n",
        "  df = df.prefetch(20)\n",
        "  return df\n",
        "\n",
        "train_dataset = training_ds.apply(pipeline)\n",
        "validate_dataset =validation_ds.apply(pipeline)\n",
        "test_dataset = test_ds.apply(pipeline)\n"
      ],
      "execution_count": 3,
      "outputs": []
    },
    {
      "cell_type": "markdown",
      "metadata": {
        "id": "3oMz1mYccVk9"
      },
      "source": [
        "#  Model\n",
        "\n",
        "You can pretty much recycle the model you defined for last week’s task with some small\n",
        "modifications.\n",
        "• As the task is maybe a bit simpler and you are aiming to explore the effect of\n",
        "optimization techniques, also try to make your model a bit smaller. The baseline\n",
        "model should barely be able to perform sufficiently good at the task (better than\n",
        "random).\n",
        "• As we now are dealing with a binary classification task, you have to change the\n",
        "configuration of the output layer. 9\n",
        "\n"
      ]
    },
    {
      "cell_type": "code",
      "metadata": {
        "id": "1jgVPHSWcf4q"
      },
      "source": [
        "class MyModel(tf.keras.Model):\n",
        "    \n",
        "    def __init__(self):\n",
        "        super(MyModel, self).__init__()\n",
        "        self.dense1 = tf.keras.layers.Dense(16, activation=tf.sigmoid, kernel_regularizer='l1_l2')\n",
        "        self.dense2 = tf.keras.layers.Dense(16, activation=tf.sigmoid)\n",
        "        self.out = tf.keras.layers.Dense(1, activation=tf.sigmoid)\n",
        "        self.dropout_layer = tf.keras.layers.Dropout(rate=0.2)\n",
        "\n",
        "\n",
        "    @tf.function\n",
        "    def call(self, inputs, training=None):\n",
        "        x = self.dense1(inputs)\n",
        "        #x = self.dropout_layer(x, training = training)\n",
        "        x = self.dense2(x)\n",
        "        #x = self.dropout_layer(x, training = training)\n",
        "        x = self.out(x)\n",
        "        return x\n",
        "    "
      ],
      "execution_count": 4,
      "outputs": []
    },
    {
      "cell_type": "code",
      "metadata": {
        "id": "u3zy23tlcogX"
      },
      "source": [
        "def train_step(model, input, target, loss_function, optimizer):\n",
        "  # loss_object and optimizer_object are instances of respective tensorflow classes\n",
        "  with tf.GradientTape() as tape:\n",
        "    prediction = model(input)\n",
        "    loss = loss_function(target, prediction)\n",
        "    gradients = tape.gradient(loss, model.trainable_variables)\n",
        "  optimizer.apply_gradients(zip(gradients, model.trainable_variables))\n",
        "  return loss\n",
        "\n",
        "def test(model, test_data, loss_function):\n",
        "  # test over complete test data\n",
        "\n",
        "  test_accuracy_aggregator = []\n",
        "  test_loss_aggregator = []\n",
        "\n",
        "  for (input, target) in test_data:\n",
        "    #print(input, target)\n",
        "    prediction = model(input)\n",
        "    sample_test_loss = loss_function(target, prediction)\n",
        "    #print('loss=', sample_test_loss)\n",
        "    sample_test_accuracy =  target == np.round(prediction, 0)\n",
        "    #print('bool=', sample_test_accuracy)\n",
        "    sample_test_accuracy = np.mean(sample_test_accuracy)\n",
        "    #print('accuracy-mean=', sample_test_accuracy)\n",
        "    test_loss_aggregator.append(sample_test_loss.numpy())\n",
        "    test_accuracy_aggregator.append(np.mean(sample_test_accuracy))\n",
        "    #print('aggregator=', test_accuracy_aggregator)\n",
        "\n",
        "  test_loss = tf.reduce_mean(test_loss_aggregator)\n",
        "  test_accuracy = tf.reduce_mean(test_accuracy_aggregator)\n",
        "  #print('reduced mean loss and accuracy =', test_loss, test_accuracy)\n",
        "\n",
        "  return test_loss, test_accuracy"
      ],
      "execution_count": 5,
      "outputs": []
    },
    {
      "cell_type": "code",
      "metadata": {
        "id": "IlALk1dUctES",
        "colab": {
          "base_uri": "https://localhost:8080/"
        },
        "outputId": "6250bdd5-5847-43b4-bf77-947f8635a666"
      },
      "source": [
        "tf.keras.backend.clear_session()\n",
        "\n",
        "#For showcasing we only use a subset of the training and test data (generally use all of the available data!)\n",
        "#train_dataset = train_dataset.take(1000)\n",
        "#test_dataset = test_dataset.take(100)\n",
        "\n",
        "### Hyperparameters\n",
        "num_epochs = 10\n",
        "learning_rate = 0.1\n",
        "\n",
        "# Initialize the model.\n",
        "model = MyModel()\n",
        "# Initialize the loss: categorical cross entropy. Check out 'tf.keras.losses'.\n",
        "cross_entropy_loss = tf.keras.losses.BinaryCrossentropy()\n",
        "# Initialize the optimizer: SGD with default parameters. Check out 'tf.keras.optimizers'\n",
        "optimizer = tf.keras.optimizers.SGD(learning_rate)\n",
        "\n",
        "# Initialize lists for later visualization.\n",
        "train_losses = []\n",
        "\n",
        "test_losses = []\n",
        "test_accuracies = []\n",
        "\n",
        "#testing once before we begin\n",
        "test_loss, test_accuracy = test(model, test_dataset, cross_entropy_loss)\n",
        "test_losses.append(test_loss)\n",
        "test_accuracies.append(test_accuracy)\n",
        "\n",
        "#check how model performs on train data once before we begin\n",
        "train_loss, _ = test(model, train_dataset, cross_entropy_loss)\n",
        "train_losses.append(train_loss)\n",
        "\n",
        "# We train for num_epochs epochs.\n",
        "for epoch in range(num_epochs):\n",
        "    print(f'Epoch: {str(epoch)} starting with accuracy {test_accuracies[-1]}')\n",
        "\n",
        "    #training (and checking in with training)\n",
        "    epoch_loss_agg = []\n",
        "    for input,target in train_dataset:\n",
        "        train_loss = train_step(model, input, target, cross_entropy_loss, optimizer)\n",
        "        epoch_loss_agg.append(train_loss)\n",
        "    \n",
        "    #track training loss\n",
        "    train_losses.append(tf.reduce_mean(epoch_loss_agg))\n",
        "\n",
        "    #testing, so we can track accuracy and test loss\n",
        "    test_loss, test_accuracy = test(model, test_dataset, cross_entropy_loss)\n",
        "    test_losses.append(test_loss)\n",
        "    test_accuracies.append(test_accuracy)"
      ],
      "execution_count": 6,
      "outputs": [
        {
          "output_type": "stream",
          "name": "stdout",
          "text": [
            "Epoch: 0 starting with accuracy 0.54375\n",
            "Epoch: 1 starting with accuracy 0.6375\n",
            "Epoch: 2 starting with accuracy 0.653125\n",
            "Epoch: 3 starting with accuracy 0.6375\n",
            "Epoch: 4 starting with accuracy 0.63125\n",
            "Epoch: 5 starting with accuracy 0.63125\n",
            "Epoch: 6 starting with accuracy 0.61875\n",
            "Epoch: 7 starting with accuracy 0.634375\n",
            "Epoch: 8 starting with accuracy 0.6125\n",
            "Epoch: 9 starting with accuracy 0.61875\n"
          ]
        }
      ]
    },
    {
      "cell_type": "markdown",
      "metadata": {
        "id": "uBwYgN45pAsP"
      },
      "source": [
        "# 4 Fine-Tuning\n",
        "\n",
        "Now comes the fun part. Your task is to apply at least 3 optimization and regularization\n",
        "techniques featured in the lecture with the goal to significantly increase your model’s\n",
        "performance. 12\n",
        "You can also think about another approach and normalize the input data. 13\n",
        "In the end, everything is up to you! You should witness an increase in performance,\n",
        "stability, and generalization.\n",
        "You may notice that some optimization techniques such as dropout seem to rather\n",
        "decrease performance. However, please bear in mind that these techniques often address\n",
        "ensuring better generalization. So before you start going all out on the test set, don’t\n",
        "forget what the validation set is for."
      ]
    },
    {
      "cell_type": "code",
      "metadata": {
        "id": "srhq0BEv9RGB",
        "colab": {
          "base_uri": "https://localhost:8080/",
          "height": 70
        },
        "outputId": "74e6692e-7625-4f39-bde8-35c982278f23"
      },
      "source": [
        "'''\n",
        "# Baselines\n",
        "Epoch: 0 starting with accuracy 0.4625\n",
        "Epoch: 1 starting with accuracy 0.5375\n",
        "Epoch: 2 starting with accuracy 0.5375\n",
        "Epoch: 3 starting with accuracy 0.5375\n",
        "Epoch: 4 starting with accuracy 0.58125\n",
        "Epoch: 5 starting with accuracy 0.575\n",
        "Epoch: 6 starting with accuracy 0.609375\n",
        "Epoch: 7 starting with accuracy 0.609375\n",
        "Epoch: 8 starting with accuracy 0.6125\n",
        "Epoch: 9 starting with accuracy 0.6125\n",
        "'''"
      ],
      "execution_count": 7,
      "outputs": [
        {
          "output_type": "execute_result",
          "data": {
            "application/vnd.google.colaboratory.intrinsic+json": {
              "type": "string"
            },
            "text/plain": [
              "'\\n# Baselines\\nEpoch: 0 starting with accuracy 0.4625\\nEpoch: 1 starting with accuracy 0.5375\\nEpoch: 2 starting with accuracy 0.5375\\nEpoch: 3 starting with accuracy 0.5375\\nEpoch: 4 starting with accuracy 0.58125\\nEpoch: 5 starting with accuracy 0.575\\nEpoch: 6 starting with accuracy 0.609375\\nEpoch: 7 starting with accuracy 0.609375\\nEpoch: 8 starting with accuracy 0.6125\\nEpoch: 9 starting with accuracy 0.6125\\n'"
            ]
          },
          "metadata": {},
          "execution_count": 7
        }
      ]
    },
    {
      "cell_type": "markdown",
      "metadata": {
        "id": "XCO91OmIQ8Al"
      },
      "source": [
        "# Visualisation"
      ]
    },
    {
      "cell_type": "code",
      "metadata": {
        "id": "lDuC1f8QRApG",
        "colab": {
          "base_uri": "https://localhost:8080/",
          "height": 279
        },
        "outputId": "1af1a827-8ad9-41ca-81ab-907c5ee0c894"
      },
      "source": [
        "import matplotlib.pyplot as plt\n",
        "\n",
        "# Visualize accuracy and loss for training and test data.\n",
        "plt.figure()\n",
        "line1, = plt.plot(train_losses)\n",
        "line2, = plt.plot(test_losses)\n",
        "line3, = plt.plot(test_accuracies)\n",
        "plt.xlabel(\"Training steps\")\n",
        "plt.ylabel(\"Loss/Accuracy\")\n",
        "plt.legend((line1,line2, line3),(\"training loss\",\"test loss\", \"test accuracy\"))\n",
        "plt.show()"
      ],
      "execution_count": 8,
      "outputs": [
        {
          "output_type": "display_data",
          "data": {
            "image/png": "[encoded data removed]",
            "text/plain": [
              "<Figure size 432x288 with 1 Axes>"
            ]
          },
          "metadata": {
            "needs_background": "light"
          }
        }
      ]
    }
  ]
}