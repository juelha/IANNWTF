{
  "nbformat": 4,
  "nbformat_minor": 0,
  "metadata": {
    "colab": {
      "name": "Homework_05 Sabine.ipynb",
      "provenance": [],
      "collapsed_sections": [],
      "authorship_tag": "ABX9TyMV83NhP/j5qUKKfeoSclvk",
      "include_colab_link": true
    },
    "kernelspec": {
      "name": "python3",
      "display_name": "Python 3"
    },
    "language_info": {
      "name": "python"
    },
    "accelerator": "GPU"
  },
  "cells": [
    {
      "cell_type": "markdown",
      "metadata": {
        "id": "view-in-github",
        "colab_type": "text"
      },
      "source": [
        "<a href=\"https://colab.research.google.com/github/juelha/IANNWTF/blob/sabine/Homework_05_Sabine.ipynb\" target=\"_parent\"><img src=\"https://colab.research.google.com/assets/colab-badge.svg\" alt=\"Open In Colab\"/></a>"
      ]
    },
    {
      "cell_type": "markdown",
      "metadata": {
        "id": "0Gupg-fyMjzr"
      },
      "source": [
        "# 1 Data set\n",
        "As CNNs are very fashionable, in this week we would like you to work with the Fashion\n",
        "MNIST Dataset.\n",
        "Note that this is very similar to the MNIST dataset that you have already seen in\n",
        "notebooks on courseware. The images have the same shape and there are the same\n",
        "number of classes.\n",
        "1.1 Construct a Data Pipeline\n",
        "Make yourself familiar with the dataset and construct a Data Pipeline. Perform all the\n",
        "preprocessing steps that you deem necessary. 12\n"
      ]
    },
    {
      "cell_type": "code",
      "metadata": {
        "id": "P2O2OEXct8B8"
      },
      "source": [
        "import tensorflow as tf\n",
        "from tensorflow import keras\n",
        "import matplotlib.pyplot as plt\n",
        "\n",
        "(train_images, train_labels),(test_images, test_labels) = keras.datasets.fashion_mnist.load_data()\n",
        "\n",
        "# normalise pixel values \n",
        "train_images = train_images /  255.0\n",
        "test_images = test_images / 255.0\n",
        "validation_images = train_images[:5000]\n",
        "validation_labels = train_labels[:5000]\n",
        "\n",
        "assert train_images.shape == (60000, 28, 28)\n",
        "assert test_images.shape == (10000, 28, 28)\n",
        "assert train_labels.shape == (60000,)\n",
        "assert test_labels.shape == (10000,)"
      ],
      "execution_count": 26,
      "outputs": []
    },
    {
      "cell_type": "markdown",
      "metadata": {
        "id": "U7ZdbiwBMsoC"
      },
      "source": [
        "# 2 Model and Training\n",
        "Although the basic procedure of defining a CNN Model is the same, you will need to\n",
        "use entirely different layers this week. We want you to experiment a bit with how to\n",
        "structure your CNN but here are some general hints:\n",
        "• You may want to alternate between convolutional layers and pooling layers. 3\n",
        "• Find the middle ground between the depth of the network and the number of filters\n",
        "used in each layer. Maybe consider the idea of the receptive field when deciding\n",
        "on the parameters. 4\n",
        "• Find the right parameters for the layers.5\n",
        "• As this is an image classification task, make sure to have a classifier architecture\n",
        "following your convolutional and pooling operations. 6\n",
        "\n",
        "\n",
        "Start by training your network for 10 epochs using a learning rate of 0.1. You can\n",
        "again copy most of the training procedure from previous scripts. 7 You may use all the\n",
        "optimization and regularization techniques that you wish and find applicable.\n",
        "To pass this task, achieve at least an accuracy of 85% on the test dataset. 8\n"
      ]
    },
    {
      "cell_type": "code",
      "metadata": {
        "colab": {
          "base_uri": "https://localhost:8080/"
        },
        "id": "Cn_gJYFnLjjF",
        "outputId": "67f176fd-8b8a-4874-9eab-fbd8728a2027"
      },
      "source": [
        "# Model\n",
        "\n",
        "model = keras.models.Sequential()\n",
        "layers = keras.layers\n",
        "model.add(layers.Conv2D(32, (3, 3), activation='relu', input_shape=(28, 28, 1)))\n",
        "model.add(layers.MaxPooling2D((2, 2)))\n",
        "model.add(layers.Conv2D(64, (3, 3), activation='relu'))\n",
        "model.add(layers.MaxPooling2D((2, 2)))\n",
        "model.add(layers.Conv2D(64, (3, 3), activation='relu'))\n",
        "#model.summary()\n",
        "\n",
        "\n",
        "# add dense layers on top to classify the output of the above Conv2D layers\n",
        "model.add(layers.Flatten())\n",
        "model.add(layers.Dense(64, activation='relu'))\n",
        "model.add(layers.Dense(10))\n",
        "\n",
        "#model.summary()\n",
        "\n",
        "model.compile(optimizer=tf.keras.optimizers.Adam(learning_rate=0.001),\n",
        "              loss=tf.keras.losses.SparseCategoricalCrossentropy(from_logits=True),\n",
        "              metrics=['accuracy'])\n",
        "\n",
        "history = model.fit(train_images, train_labels, epochs=10, validation_data=(test_images, test_labels))\n",
        "\n"
      ],
      "execution_count": 30,
      "outputs": [
        {
          "output_type": "stream",
          "name": "stdout",
          "text": [
            "Epoch 1/10\n",
            "1875/1875 [==============================] - 14s 7ms/step - loss: 0.4974 - accuracy: 0.8170 - val_loss: 0.3624 - val_accuracy: 0.8714\n",
            "Epoch 2/10\n",
            "1875/1875 [==============================] - 13s 7ms/step - loss: 0.3185 - accuracy: 0.8845 - val_loss: 0.3300 - val_accuracy: 0.8807\n",
            "Epoch 3/10\n",
            "1875/1875 [==============================] - 13s 7ms/step - loss: 0.2723 - accuracy: 0.9004 - val_loss: 0.2803 - val_accuracy: 0.8997\n",
            "Epoch 4/10\n",
            "1875/1875 [==============================] - 13s 7ms/step - loss: 0.2406 - accuracy: 0.9111 - val_loss: 0.2755 - val_accuracy: 0.8992\n",
            "Epoch 5/10\n",
            "1875/1875 [==============================] - 13s 7ms/step - loss: 0.2168 - accuracy: 0.9192 - val_loss: 0.2707 - val_accuracy: 0.9012\n",
            "Epoch 6/10\n",
            "1875/1875 [==============================] - 13s 7ms/step - loss: 0.1967 - accuracy: 0.9266 - val_loss: 0.2817 - val_accuracy: 0.9023\n",
            "Epoch 7/10\n",
            "1875/1875 [==============================] - 13s 7ms/step - loss: 0.1775 - accuracy: 0.9329 - val_loss: 0.2635 - val_accuracy: 0.9104\n",
            "Epoch 8/10\n",
            "1875/1875 [==============================] - 13s 7ms/step - loss: 0.1628 - accuracy: 0.9393 - val_loss: 0.2722 - val_accuracy: 0.9103\n",
            "Epoch 9/10\n",
            "1875/1875 [==============================] - 14s 7ms/step - loss: 0.1484 - accuracy: 0.9446 - val_loss: 0.2749 - val_accuracy: 0.9136\n",
            "Epoch 10/10\n",
            "1875/1875 [==============================] - 13s 7ms/step - loss: 0.1359 - accuracy: 0.9483 - val_loss: 0.2699 - val_accuracy: 0.9083\n"
          ]
        }
      ]
    },
    {
      "cell_type": "markdown",
      "metadata": {
        "id": "7JfOdQVnMyuD"
      },
      "source": [
        "\n"
      ]
    },
    {
      "cell_type": "markdown",
      "metadata": {
        "id": "eL_AnsvZMgR3"
      },
      "source": [
        "#4 Visualization\n",
        "Visualize accuracy and loss for training and test data using matplotlib.\n"
      ]
    },
    {
      "cell_type": "code",
      "metadata": {
        "colab": {
          "base_uri": "https://localhost:8080/",
          "height": 297
        },
        "id": "yLD9tS2ZO_3u",
        "outputId": "053b74c6-5e2b-45a2-a204-e2167eda5e81"
      },
      "source": [
        "\n",
        "plt.plot(history.history['accuracy'], label='accuracy')\n",
        "plt.plot(history.history['val_accuracy'], label='val_accuracy')\n",
        "plt.xlabel('Epoch')\n",
        "plt.ylabel('Accuracy')\n",
        "plt.legend(loc='lower right')"
      ],
      "execution_count": 36,
      "outputs": [
        {
          "output_type": "execute_result",
          "data": {
            "text/plain": [
              "<matplotlib.legend.Legend at 0x7fe1026f1a50>"
            ]
          },
          "metadata": {},
          "execution_count": 36
        },
        {
          "output_type": "display_data",
          "data": {
            "image/png": "[encoded data removed]",
            "text/plain": [
              "<Figure size 432x288 with 1 Axes>"
            ]
          },
          "metadata": {
            "needs_background": "light"
          }
        }
      ]
    }
  ]
}