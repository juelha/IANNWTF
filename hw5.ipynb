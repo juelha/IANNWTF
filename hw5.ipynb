{
  "nbformat": 4,
  "nbformat_minor": 0,
  "metadata": {
    "colab": {
      "name": "Homework_05 Sabine.ipynb",
      "provenance": [],
      "collapsed_sections": [],
      "authorship_tag": "ABX9TyMJQBdOuGZrP9elu1BabdWT",
      "include_colab_link": true
    },
    "kernelspec": {
      "name": "python3",
      "display_name": "Python 3"
    },
    "language_info": {
      "name": "python"
    },
    "accelerator": "GPU"
  },
  "cells": [
    {
      "cell_type": "markdown",
      "metadata": {
        "id": "view-in-github",
        "colab_type": "text"
      },
      "source": [
        "<a href=\"https://colab.research.google.com/github/juelha/IANNWTF/blob/main/hw5.ipynb\" target=\"_parent\"><img src=\"https://colab.research.google.com/assets/colab-badge.svg\" alt=\"Open In Colab\"/></a>"
      ]
    },
    {
      "cell_type": "markdown",
      "metadata": {
        "id": "c2w28NWxIEM8"
      },
      "source": [
        "#Homework 05\n"
      ]
    },
    {
      "cell_type": "code",
      "metadata": {
        "id": "CEDFh9-UIWCT"
      },
      "source": [
        "import tensorflow as tf\n",
        "from tensorflow import keras\n",
        "import matplotlib.pyplot as plt\n",
        "import numpy as np\n",
        "import matplotlib.pyplot as plt\n",
        "import math"
      ],
      "execution_count": null,
      "outputs": []
    },
    {
      "cell_type": "markdown",
      "metadata": {
        "id": "z1aUXYgAZda6"
      },
      "source": [
        ""
      ]
    },
    {
      "cell_type": "markdown",
      "metadata": {
        "id": "0Gupg-fyMjzr"
      },
      "source": [
        "## 1 Dataset\n",
        "Fashion MNIST Dataset.\n",
        "This is a dataset of 60,000 28x28 grayscale images of 10 fashion categories, along with a test set of 10,000 images. \n",
        "https://keras.io/api/datasets/fashion_mnist/\n"
      ]
    },
    {
      "cell_type": "code",
      "metadata": {
        "id": "P2O2OEXct8B8"
      },
      "source": [
        "# load Fashion Dataset from Keras\n",
        "(train_images, train_labels),(test_images, test_labels) = keras.datasets.fashion_mnist.load_data()\n",
        "\n",
        "# normalise pixel values \n",
        "train_images = train_images /  255.0\n",
        "test_images = test_images / 255.0\n",
        "validation_images = train_images[:5000]\n",
        "validation_labels = train_labels[:5000]\n",
        "\n",
        "# assert that the number and size of the images/labels are as expected\n",
        "assert train_images.shape == (60000, 28, 28)\n",
        "assert test_images.shape == (10000, 28, 28)\n",
        "assert train_labels.shape == (60000,)\n",
        "assert test_labels.shape == (10000,)\n",
        "\n",
        "# assign the correct labels to the respective images\n",
        "train_dataset = tf.data.Dataset.from_tensor_slices((train_images, train_labels))\n",
        "test_dataset = tf.data.Dataset.from_tensor_slices((test_images, test_labels))\n",
        "\n",
        "def preprocessing(tensor):\n",
        "  \"\"\" apply a preprocessing pipeline to the given dataset\n",
        "  :param tensor: data to be preprocessed\n",
        "  :return: preprocessed dataset\n",
        "  \"\"\"\n",
        "  # map the labels to one_hot labels and expand the last dimension of the images \n",
        "  tensor = tensor.map(lambda images, labels: (tf.expand_dims(images, -1), tf.one_hot(labels, 10)))\n",
        "  # cache this progress in memory\n",
        "  tensor = tensor.cache()\n",
        "  # shuffle, batch, prefetch\n",
        "  tensor = tensor.shuffle(1000)\n",
        "  tensor = tensor.batch(32)\n",
        "  tensor = tensor.prefetch(20)\n",
        "  # return preprocessed dataset\n",
        "  return tensor\n"
      ],
      "execution_count": null,
      "outputs": []
    },
    {
      "cell_type": "code",
      "metadata": {
        "id": "TD6DDl8qK_78"
      },
      "source": [
        "# apply the preprocessing pipeline to both the training and the test dataset\n",
        "train_dataset = train_dataset.apply(preprocessing)\n",
        "test_dataset = test_dataset.apply(preprocessing)\n"
      ],
      "execution_count": null,
      "outputs": []
    },
    {
      "cell_type": "markdown",
      "metadata": {
        "id": "U7ZdbiwBMsoC"
      },
      "source": [
        "## 2 Model\n",
        "\n",
        "3 convolutional layers with a kernel size of 3, no stride and ’same’ padding, alternating with 2 pooling layers of size 2, finally a dense layer with 10 output neurons.\n",
        "\n",
        "Convolutional layers use ReLU activation: selected because it's both simple to implement and less susceptible to vanishing gradients that prevent deep models from being trained\n",
        "\n",
        "Final dense layer uses softmax, selected because it's good for multiclass classification tasks with one node for each class\n",
        "\n"
      ]
    },
    {
      "cell_type": "code",
      "metadata": {
        "id": "W3VwMfTDmcff"
      },
      "source": [
        "class MyModel(tf.keras.Model):\n",
        "  \"\"\" This is a custom CNN Model\"\"\"\n",
        "  def __init__(self):\n",
        "    \"\"\"Constructor function\"\"\"\n",
        "    super(MyModel, self).__init__()\n",
        "    self.conv1 = tf.keras.layers.Conv2D(filters=32, kernel_size=(3, 3), padding='same', activation='relu', input_shape=(28, 28))\n",
        "    self.maxpooling1 = tf.keras.layers.MaxPooling2D((2, 2))\n",
        "    self.conv2 = tf.keras.layers.Conv2D(filters=64, kernel_size=(3, 3), padding='same', activation='relu')\n",
        "    self.maxpooling2 = tf.keras.layers.MaxPooling2D((2, 2))\n",
        "    self.conv3 = tf.keras.layers.Conv2D(filters=64, kernel_size=(3, 3), padding='same', activation='relu')\n",
        "    #flatten layer with Global Max Pooling for the dense layer\n",
        "    self.flatten = tf.keras.layers.GlobalMaxPooling2D()\n",
        "    self.dense1 = tf.keras.layers.Dense(10, activation='softmax')\n",
        "      \n",
        "  @tf.function\n",
        "  def call(self, inputs):\n",
        "    \"\"\"Build up the Model of alternating Conv2D layers and pooling layers\n",
        "    and finally a Dense layer\n",
        "    :param inputs: tensorflow dataset\n",
        "    \"\"\"\n",
        "    x = self.conv1(inputs)\n",
        "    x = self.maxpooling1(x)\n",
        "    x = self.conv2(x)\n",
        "    x = self.maxpooling2(x)\n",
        "    x = self.conv3(x)\n",
        "    x = self.flatten(x)\n",
        "    x = self.dense1(x)\n",
        "    return x\n",
        "    "
      ],
      "execution_count": null,
      "outputs": []
    },
    {
      "cell_type": "code",
      "metadata": {
        "id": "xGM4S2RHp4zB"
      },
      "source": [
        "def train_step(model, input, target, loss_function, optimizer):\n",
        "  \"\"\"Applys optimizer to all trainable variables of this model to\n",
        "  minimize the loss (loss_function) between the target output and the\n",
        "  predicted ouptut.\n",
        "  :param input: tf.Tensor input to the model\n",
        "  :param target: target output with repect to the input\n",
        "  :return: the loss and the accuracy of the models prediction\n",
        "   \"\"\"\n",
        "  # loss_object and optimizer_object are instances of respective tensorflow classes\n",
        "  with tf.GradientTape() as tape:\n",
        "    prediction = model(input)\n",
        "    loss = loss_function(target, prediction)\n",
        "    gradients = tape.gradient(loss, model.trainable_variables)\n",
        "  optimizer.apply_gradients(zip(gradients, model.trainable_variables))\n",
        "  return loss\n",
        "\n",
        "def test(model, test_data, loss_function):\n",
        "  \"\"\"Calculate the mean loss and accuracy of the model over all elements\n",
        "  of test_data.\n",
        "  :param test_data: model is evaulated for test_data\n",
        "  :param: loss_function: chosen cost function\n",
        "  :return: mean loss and mean accuracy for all datapoints\n",
        "  \"\"\"\n",
        "\n",
        "  # test over complete test data\n",
        "  test_accuracy_aggregator = []\n",
        "  test_loss_aggregator = []\n",
        "\n",
        "  for (input, target) in test_data:\n",
        "    prediction = model(input)\n",
        "    sample_test_loss = loss_function(target, prediction)\n",
        "    sample_test_accuracy =  np.argmax(target, axis=1) == np.argmax(prediction, axis=1)\n",
        "    sample_test_accuracy = np.mean(sample_test_accuracy)\n",
        "    test_loss_aggregator.append(sample_test_loss.numpy())\n",
        "    test_accuracy_aggregator.append(np.mean(sample_test_accuracy))\n",
        "\n",
        "  test_loss = tf.reduce_mean(test_loss_aggregator)\n",
        "  test_accuracy = tf.reduce_mean(test_accuracy_aggregator)\n",
        "\n",
        "  return test_loss, test_accuracy"
      ],
      "execution_count": null,
      "outputs": []
    },
    {
      "cell_type": "markdown",
      "metadata": {
        "id": "ADFcsOgYRV-H"
      },
      "source": [
        "## 3 Training \n",
        "\n",
        "Finally put everything together\n",
        "- We trained our model with 10 epochs using a learning rate of 0.001.\n",
        "- As a loss function we used the categorical cross entropy as it is used in \n",
        "multiclass classification to compute loss between true labels and predicted labels. \n",
        "- As an optimizer use Adam - which according to Kingma et al., 2014, the method is \n",
        "\"computationally efficient, has little memory requirement, invariant to diagonal \n",
        "rescaling of gradients, and is well suited for problems that are large in terms \n",
        "of data/parameters\"\n",
        "\n",
        "\n"
      ]
    },
    {
      "cell_type": "code",
      "metadata": {
        "colab": {
          "base_uri": "https://localhost:8080/"
        },
        "id": "j2bk6joDrLFX",
        "outputId": "cb21a281-d10a-459d-a676-4ac33c468254"
      },
      "source": [
        "tf.keras.backend.clear_session()\n",
        "\n",
        "### Hyperparameters\n",
        "num_epochs = 10\n",
        "learning_rate = 0.001\n",
        "\n",
        "# Initialize the model.\n",
        "model = MyModel()\n",
        "# Initialize the loss.\n",
        "cross_entropy_loss = tf.keras.losses.CategoricalCrossentropy()\n",
        "# Initialize the optimizer.\n",
        "optimizer = tf.keras.optimizers.Adam(learning_rate)\n",
        "\n",
        "# Initialize lists for later visualization.\n",
        "train_losses = []\n",
        "train_accuracies = []\n",
        "\n",
        "test_losses = []\n",
        "test_accuracies = []\n",
        "\n",
        "#testing once before we begin\n",
        "test_loss, test_accuracy = test(model, test_dataset, cross_entropy_loss)\n",
        "test_losses.append(test_loss)\n",
        "test_accuracies.append(test_accuracy)\n",
        "\n",
        "#check how model performs on train data once before we begin\n",
        "train_loss, train_accuracy = test(model, train_dataset, cross_entropy_loss)\n",
        "train_losses.append(train_loss)\n",
        "train_accuracies.append(train_accuracy)\n",
        "\n",
        "\n",
        "# train for num_epochs epochs.\n",
        "for epoch in range(num_epochs):\n",
        "    print(f'Epoch: {str(epoch)} starting with accuracy {test_accuracies[-1]}')\n",
        "    \n",
        "    #training (and checking in with training)\n",
        "    epoch_loss_agg = []\n",
        "    for input,target in train_dataset:\n",
        "        train_loss = train_step(model, input, target, cross_entropy_loss, optimizer)\n",
        "        epoch_loss_agg.append(train_loss)\n",
        "    \n",
        "    #track training loss\n",
        "    train_losses.append(tf.reduce_mean(epoch_loss_agg))\n",
        "\n",
        "    #testing, so we can track accuracy and test loss\n",
        "    test_loss, test_accuracy = test(model, test_dataset, cross_entropy_loss)\n",
        "    test_losses.append(test_loss)\n",
        "    test_accuracies.append(test_accuracy)\n",
        "    print(f'Train Losses: {train_loss}, Test Losses: {test_loss}')"
      ],
      "execution_count": null,
      "outputs": [
        {
          "output_type": "stream",
          "name": "stdout",
          "text": [
            "Epoch: 0 starting with accuracy 0.09424920127795527\n",
            "Train Losses: 0.2225833535194397, Test Losses: 0.41317319869995117\n",
            "Epoch: 1 starting with accuracy 0.8451477635782748\n",
            "Train Losses: 0.4708220362663269, Test Losses: 0.33092063665390015\n",
            "Epoch: 2 starting with accuracy 0.8785942492012779\n",
            "Train Losses: 0.26694849133491516, Test Losses: 0.3191797137260437\n",
            "Epoch: 3 starting with accuracy 0.8893769968051118\n",
            "Train Losses: 0.21095629036426544, Test Losses: 0.29848337173461914\n",
            "Epoch: 4 starting with accuracy 0.893470447284345\n",
            "Train Losses: 0.21926723420619965, Test Losses: 0.28576529026031494\n",
            "Epoch: 5 starting with accuracy 0.8987619808306709\n",
            "Train Losses: 0.10800175368785858, Test Losses: 0.3688660264015198\n",
            "Epoch: 6 starting with accuracy 0.8809904153354633\n",
            "Train Losses: 0.1930726170539856, Test Losses: 0.2693524956703186\n",
            "Epoch: 7 starting with accuracy 0.909944089456869\n",
            "Train Losses: 0.22294366359710693, Test Losses: 0.2529241144657135\n",
            "Epoch: 8 starting with accuracy 0.9140375399361023\n",
            "Train Losses: 0.10741178691387177, Test Losses: 0.25723254680633545\n",
            "Epoch: 9 starting with accuracy 0.9133386581469649\n",
            "Train Losses: 0.0914175733923912, Test Losses: 0.27490895986557007\n"
          ]
        }
      ]
    },
    {
      "cell_type": "markdown",
      "metadata": {
        "id": "eL_AnsvZMgR3"
      },
      "source": [
        "##4 Visualization\n"
      ]
    },
    {
      "cell_type": "code",
      "metadata": {
        "id": "yLD9tS2ZO_3u",
        "colab": {
          "base_uri": "https://localhost:8080/",
          "height": 279
        },
        "outputId": "e015b81e-e5bf-4d36-866c-0dacb5093869"
      },
      "source": [
        "# Visualize accuracy and loss for training and test data.\n",
        "\n",
        "plt.figure()\n",
        "line1, = plt.plot(train_losses)\n",
        "line2, = plt.plot(test_losses)\n",
        "line3, = plt.plot(test_accuracies)\n",
        "plt.xlabel(\"Training steps\")\n",
        "plt.ylabel(\"Loss/Accuracy\")\n",
        "plt.legend((line1,line2, line3),(\"training losses\",\"test losses\", \"test accuracy\"))\n",
        "plt.show()"
      ],
      "execution_count": null,
      "outputs": [
        {
          "output_type": "display_data",
          "data": {
            "image/png": "[encoded data removed]",
            "text/plain": [
              "<Figure size 432x288 with 1 Axes>"
            ]
          },
          "metadata": {
            "needs_background": "light"
          }
        }
      ]
    },
    {
      "cell_type": "markdown",
      "metadata": {
        "id": "lZnQ8A-b2LO5"
      },
      "source": [
        "## 5 Receptive Field Size\n"
      ]
    },
    {
      "cell_type": "code",
      "metadata": {
        "colab": {
          "base_uri": "https://localhost:8080/"
        },
        "id": "_8741BxJ14OY",
        "outputId": "100dcd09-1650-442f-b493-9dddf48fc03d"
      },
      "source": [
        "# Algorithm to calculate the receptive field size of the architecture\n",
        "\n",
        "conv_net = {\n",
        "# [filter size, stride, padding]\n",
        "    'conv1': [3,1,1],\n",
        "    'pool1': [2,1,0],\n",
        "    'conv2': [3,1,1],\n",
        "    'pool2': [2,1,0],\n",
        "    'conv3': [3,1,1],\n",
        "    'dense1': [1,1,0]\n",
        "}\n",
        "\n",
        "class ReceptiveFieldCalculator():\n",
        "    def calculate(self, architecture, input_image_size):\n",
        "        input_layer = ('input_layer', input_image_size, 3, 1, 1.5)\n",
        "        self._print_layer_info(input_layer)\n",
        "        \n",
        "        for key in architecture:\n",
        "            current_layer = self._calculate_layer_info(architecture[key], input_layer, key)\n",
        "            self._print_layer_info(current_layer)\n",
        "            input_layer = current_layer\n",
        "            \n",
        "    def _print_layer_info(self, layer):\n",
        "        print(f'------')\n",
        "        print(f'{layer[0]}: n = {layer[1]}; r = {layer[2]}; j = {layer[3]}; start = {layer[4]}')     \n",
        "        print(f'------')\n",
        "            \n",
        "    def _calculate_layer_info(self, current_layer, input_layer, layer_name):\n",
        "        n_in = input_layer[1]\n",
        "        j_in = input_layer[2]\n",
        "        r_in = input_layer[3]\n",
        "        start_in = input_layer[4]\n",
        "        \n",
        "        k = current_layer[0]\n",
        "        s = current_layer[1]\n",
        "        p = current_layer[2]\n",
        "\n",
        "        n_out = math.floor((n_in - k + 2*p)/s) + 1\n",
        "        padding = (n_out-1)*s - n_in + k \n",
        "        p_right = math.ceil(padding/2)\n",
        "        p_left = math.floor(padding/2)\n",
        "\n",
        "        j_out = j_in * s\n",
        "        r_out = r_in + (k - 1)*j_in\n",
        "        start_out = start_in + ((k-1)/2 - p_left)*j_in\n",
        "        return layer_name, n_out, j_out, r_out, start_out\n",
        "\n",
        "calculator = ReceptiveFieldCalculator()\n",
        "calculator.calculate(conv_net, 28)"
      ],
      "execution_count": null,
      "outputs": [
        {
          "output_type": "stream",
          "name": "stdout",
          "text": [
            "------\n",
            "input_layer: n = 28; r = 3; j = 1; start = 1.5\n",
            "------\n",
            "------\n",
            "conv1: n = 28; r = 3; j = 7; start = 1.5\n",
            "------\n",
            "------\n",
            "pool1: n = 27; r = 3; j = 10; start = 3.0\n",
            "------\n",
            "------\n",
            "conv2: n = 27; r = 3; j = 16; start = 3.0\n",
            "------\n",
            "------\n",
            "pool2: n = 26; r = 3; j = 19; start = 4.5\n",
            "------\n",
            "------\n",
            "conv3: n = 26; r = 3; j = 25; start = 4.5\n",
            "------\n",
            "------\n",
            "dense1: n = 26; r = 3; j = 25; start = 4.5\n",
            "------\n"
          ]
        }
      ]
    }
  ]
}